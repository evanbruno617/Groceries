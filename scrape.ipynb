{
 "cells": [
  {
   "cell_type": "code",
   "execution_count": 1,
   "id": "a1218fd5",
   "metadata": {},
   "outputs": [],
   "source": [
    "# import dependencies \n",
    "import pandas as pd\n",
    "from splinter import Browser\n",
    "from bs4 import BeautifulSoup as soup\n",
    "import pandas as pd\n",
    "import datetime as dt\n",
    "from webdriver_manager.chrome import ChromeDriverManager\n",
    "import time\n",
    "import numpy as np\n",
    "import os\n",
    "from random import randrange"
   ]
  },
  {
   "cell_type": "code",
   "execution_count": 2,
   "id": "b29bae9a",
   "metadata": {},
   "outputs": [
    {
     "name": "stderr",
     "output_type": "stream",
     "text": [
      "\n",
      "\n",
      "====== WebDriver manager ======\n",
      "Current google-chrome version is 104.0.5112\n",
      "Get LATEST chromedriver version for 104.0.5112 google-chrome\n",
      "Trying to download new driver from https://chromedriver.storage.googleapis.com/104.0.5112.79/chromedriver_mac64.zip\n",
      "Driver has been saved in cache [/Users/evanbruno/.wdm/drivers/chromedriver/mac64/104.0.5112.79]\n"
     ]
    }
   ],
   "source": [
    "# open browser\n",
    "executable_path = {'executable_path': ChromeDriverManager().install()}\n",
    "browser = Browser('chrome', **executable_path, headless=False)"
   ]
  },
  {
   "cell_type": "code",
   "execution_count": 3,
   "id": "0c9721dc",
   "metadata": {},
   "outputs": [],
   "source": [
    "url = \"https://www.costco.com/grocery-household.html\"\n",
    "browser.visit(url)"
   ]
  },
  {
   "cell_type": "code",
   "execution_count": 46,
   "id": "566d7458",
   "metadata": {},
   "outputs": [],
   "source": [
    "html = browser.html\n",
    "test = soup(html, 'html.parser')"
   ]
  },
  {
   "cell_type": "code",
   "execution_count": 47,
   "id": "b172a2a1",
   "metadata": {},
   "outputs": [],
   "source": [
    "cat = {}\n",
    "href = []\n",
    "for i in range(2, 5):\n",
    "    # for t in test.find_all(class_=\"row gutter\")[i].find_all(class_=\"h5-style-guide eco-ftr-6across-title\")\n",
    "    \n",
    "    for i in test.find_all(class_=\"row gutter\")[2].find_all(\"a\"):\n",
    "        href.append(i.get(\"href\"))"
   ]
  },
  {
   "cell_type": "code",
   "execution_count": 48,
   "id": "e2b6b748",
   "metadata": {},
   "outputs": [
    {
     "data": {
      "text/plain": [
       "['/health-beauty.html',\n",
       " '/kirkland-signature-groceries.html',\n",
       " '/paper-products-food-storage.html',\n",
       " '/laundry-supplies.html',\n",
       " '/household-cleaning.html',\n",
       " '/coffee-sweeteners.html',\n",
       " '/health-beauty.html',\n",
       " '/kirkland-signature-groceries.html',\n",
       " '/paper-products-food-storage.html',\n",
       " '/laundry-supplies.html',\n",
       " '/household-cleaning.html',\n",
       " '/coffee-sweeteners.html',\n",
       " '/health-beauty.html',\n",
       " '/kirkland-signature-groceries.html',\n",
       " '/paper-products-food-storage.html',\n",
       " '/laundry-supplies.html',\n",
       " '/household-cleaning.html',\n",
       " '/coffee-sweeteners.html']"
      ]
     },
     "execution_count": 48,
     "metadata": {},
     "output_type": "execute_result"
    }
   ],
   "source": [
    "href"
   ]
  },
  {
   "cell_type": "code",
   "execution_count": 49,
   "id": "92920641",
   "metadata": {},
   "outputs": [
    {
     "data": {
      "text/plain": [
       "<a class=\"external\" href=\"/kirkland-signature-groceries.html\" style=\"text-decoration-color: #333333;\">\n",
       "<span class=\"eco-imgWrapGrocery eco-cat-img\"><img alt=\"\" class=\"img-responsive btn-block\" src=\"https://mobilecontent.costco.com/live/resource/img/grocery/grocery-6feature-trash-bag.png\"/></span>\n",
       "<div class=\"h5-style-guide eco-ftr-6across-title\">Kirkland Signature Grocery</div>\n",
       "<div style=\"text-align: center; font-size: 0.9em; color: #333; line-height: 0.8em;\"></div>\n",
       "</a>"
      ]
     },
     "execution_count": 49,
     "metadata": {},
     "output_type": "execute_result"
    }
   ],
   "source": [
    "test.find_all(class_=\"row gutter\")[2].find_all(\"a\")[1]"
   ]
  },
  {
   "cell_type": "code",
   "execution_count": 50,
   "id": "aac19b19",
   "metadata": {},
   "outputs": [],
   "source": [
    "cat = test.find_all(class_=\"row gutter\")[2].find(\"a\").get(\"href\")"
   ]
  },
  {
   "cell_type": "code",
   "execution_count": 51,
   "id": "fffa1bf2",
   "metadata": {},
   "outputs": [],
   "source": [
    "new_url = 'https://www.costco.com'"
   ]
  },
  {
   "cell_type": "code",
   "execution_count": 52,
   "id": "b7cdffb0",
   "metadata": {},
   "outputs": [],
   "source": [
    "browser.visit(f\"{new_url}{cat}\")"
   ]
  },
  {
   "cell_type": "code",
   "execution_count": 53,
   "id": "7b5c5efe",
   "metadata": {},
   "outputs": [],
   "source": [
    "html = browser.html\n",
    "test = soup(html, 'html.parser')"
   ]
  },
  {
   "cell_type": "code",
   "execution_count": 54,
   "id": "440c2bd8",
   "metadata": {},
   "outputs": [],
   "source": [
    "cats = []\n",
    "for cat in test.find(class_=\"related_categories_list\").find_all(class_=\"row\")[1].find_all(\"a\"):\n",
    "    cats.append(cat.get(\"href\"))"
   ]
  },
  {
   "cell_type": "code",
   "execution_count": 55,
   "id": "24766ff8",
   "metadata": {},
   "outputs": [
    {
     "data": {
      "text/plain": [
       "['/vitamins-herbals-dietary-supplements.html',\n",
       " '/non-prescription-remedies.html',\n",
       " '/personal-care.html',\n",
       " '/diet-nutrition.html',\n",
       " '/home-health-care.html',\n",
       " '/massage-relaxation.html',\n",
       " '/reading-glasses.html',\n",
       " '/health-beauty-spa-gifts.html',\n",
       " '/aids-for-independent-living.html',\n",
       " '/immunizations.html',\n",
       " '/optical.html',\n",
       " '/hearing-aid-center.html']"
      ]
     },
     "execution_count": 55,
     "metadata": {},
     "output_type": "execute_result"
    }
   ],
   "source": [
    "cats"
   ]
  },
  {
   "cell_type": "code",
   "execution_count": 56,
   "id": "5329d4bb",
   "metadata": {},
   "outputs": [],
   "source": [
    "cats = '/vitamins-herbals-dietary-supplements.html'"
   ]
  },
  {
   "cell_type": "code",
   "execution_count": 57,
   "id": "57015741",
   "metadata": {},
   "outputs": [],
   "source": [
    "browser.visit(f\"{new_url}{cats}\")"
   ]
  },
  {
   "cell_type": "code",
   "execution_count": 58,
   "id": "32070e2f",
   "metadata": {},
   "outputs": [
    {
     "data": {
      "text/plain": [
       "['https://www.costco.com/adult-multi-letter-vitamins.html',\n",
       " 'https://www.costco.com/all-vitamins-supplements.html',\n",
       " 'https://www.costco.com/calcium-minerals.html',\n",
       " 'https://www.costco.com/childrens-multi-letter-vitamins.html',\n",
       " 'https://www.costco.com/coq10-enzyme.html',\n",
       " 'https://www.costco.com/dietary-supplements.html',\n",
       " 'https://www.costco.com/energy.html',\n",
       " 'https://www.costco.com/fish-oil-omega-3.html',\n",
       " 'https://www.costco.com/glucosamine-joint-supplements.html',\n",
       " 'https://www.costco.com/herbal-supplements.html',\n",
       " 'https://www.costco.com/immune-support.html',\n",
       " 'https://www.costco.com/probiotics.html',\n",
       " 'https://www.costco.com/weight-loss-supplements.html']"
      ]
     },
     "execution_count": 58,
     "metadata": {},
     "output_type": "execute_result"
    }
   ],
   "source": [
    "html = browser.html\n",
    "test = soup(html, 'html.parser')\n",
    "\n",
    "cats = []\n",
    "for cat in test.find(class_=\"categoryclist_v2\").find_all(class_=\"row\")[1].find_all(\"a\"):\n",
    "    cats.append(cat.get(\"href\"))\n",
    "cats"
   ]
  },
  {
   "cell_type": "code",
   "execution_count": 59,
   "id": "2abc52e1",
   "metadata": {},
   "outputs": [],
   "source": [
    "cats2 = \"https://www.costco.com/adult-multi-letter-vitamins.html\""
   ]
  },
  {
   "cell_type": "code",
   "execution_count": 60,
   "id": "e168a265",
   "metadata": {},
   "outputs": [],
   "source": [
    "browser.visit(f\"{cats2}\")"
   ]
  },
  {
   "cell_type": "code",
   "execution_count": 61,
   "id": "4585e411",
   "metadata": {},
   "outputs": [],
   "source": [
    "html = browser.html\n",
    "test = soup(html, 'html.parser')"
   ]
  },
  {
   "cell_type": "code",
   "execution_count": 62,
   "id": "621dd6bb",
   "metadata": {},
   "outputs": [
    {
     "name": "stdout",
     "output_type": "stream",
     "text": [
      "https://www.costco.com/adult-multi-letter-vitamins.html?keyword=warehouse+only\n"
     ]
    }
   ],
   "source": [
    "for i in test.find_all(class_=\"pills-section\"):\n",
    "    if i.find(\"a\") == None:\n",
    "        pass\n",
    "    else:\n",
    "        print(i.find(\"a\").get(\"href\"))"
   ]
  },
  {
   "cell_type": "code",
   "execution_count": 63,
   "id": "3bd0862e",
   "metadata": {},
   "outputs": [
    {
     "data": {
      "text/plain": [
       "[]"
      ]
     },
     "execution_count": 63,
     "metadata": {},
     "output_type": "execute_result"
    }
   ],
   "source": [
    "test.find_all(class_=\"product-tile-set\")[20].find_all(id=\"product-image-url\")"
   ]
  },
  {
   "cell_type": "code",
   "execution_count": 64,
   "id": "7af3a18a",
   "metadata": {},
   "outputs": [],
   "source": [
    "html = browser.html\n",
    "test = soup(html, 'html.parser')"
   ]
  },
  {
   "cell_type": "code",
   "execution_count": 25,
   "id": "b544ff8d",
   "metadata": {},
   "outputs": [
    {
     "ename": "AttributeError",
     "evalue": "'NoneType' object has no attribute 'find'",
     "output_type": "error",
     "traceback": [
      "\u001b[0;31m---------------------------------------------------------------------------\u001b[0m",
      "\u001b[0;31mAttributeError\u001b[0m                            Traceback (most recent call last)",
      "Input \u001b[0;32mIn [25]\u001b[0m, in \u001b[0;36m<cell line: 1>\u001b[0;34m()\u001b[0m\n\u001b[0;32m----> 1\u001b[0m \u001b[43mtest\u001b[49m\u001b[38;5;241;43m.\u001b[39;49m\u001b[43mfind\u001b[49m\u001b[43m(\u001b[49m\u001b[38;5;28;43mid\u001b[39;49m\u001b[38;5;241;43m=\u001b[39;49m\u001b[38;5;124;43m\"\u001b[39;49m\u001b[38;5;124;43mpills-section\u001b[39;49m\u001b[38;5;124;43m\"\u001b[39;49m\u001b[43m)\u001b[49m\u001b[38;5;241;43m.\u001b[39;49m\u001b[43mfind\u001b[49m(class_\u001b[38;5;241m=\u001b[39m\u001b[38;5;124m\"\u001b[39m\u001b[38;5;124mvalue\u001b[39m\u001b[38;5;124m\"\u001b[39m)\u001b[38;5;241m.\u001b[39mget_text()\n",
      "\u001b[0;31mAttributeError\u001b[0m: 'NoneType' object has no attribute 'find'"
     ]
    }
   ],
   "source": [
    "test.find(id=\"pills-section\").find(class_=\"value\").get_text()"
   ]
  },
  {
   "cell_type": "code",
   "execution_count": 44,
   "id": "28d6c78d",
   "metadata": {},
   "outputs": [],
   "source": [
    "time.sleep(randrange(5))"
   ]
  },
  {
   "cell_type": "code",
   "execution_count": 26,
   "id": "86768960",
   "metadata": {},
   "outputs": [],
   "source": [
    "name_dict = {}"
   ]
  },
  {
   "cell_type": "code",
   "execution_count": 27,
   "id": "0334ec81",
   "metadata": {},
   "outputs": [
    {
     "ename": "KeyboardInterrupt",
     "evalue": "",
     "output_type": "error",
     "traceback": [
      "\u001b[0;31m---------------------------------------------------------------------------\u001b[0m",
      "\u001b[0;31mKeyboardInterrupt\u001b[0m                         Traceback (most recent call last)",
      "Input \u001b[0;32mIn [27]\u001b[0m, in \u001b[0;36m<cell line: 10>\u001b[0;34m()\u001b[0m\n\u001b[1;32m      8\u001b[0m     hrefs\u001b[38;5;241m.\u001b[39mappend(i\u001b[38;5;241m.\u001b[39mget(\u001b[38;5;124m\"\u001b[39m\u001b[38;5;124mhref\u001b[39m\u001b[38;5;124m\"\u001b[39m))\n\u001b[1;32m     10\u001b[0m \u001b[38;5;28;01mfor\u001b[39;00m t \u001b[38;5;129;01min\u001b[39;00m hrefs:\n\u001b[0;32m---> 11\u001b[0m     \u001b[43mbrowser\u001b[49m\u001b[38;5;241;43m.\u001b[39;49m\u001b[43mvisit\u001b[49m\u001b[43m(\u001b[49m\u001b[43mt\u001b[49m\u001b[43m)\u001b[49m\n\u001b[1;32m     13\u001b[0m     html \u001b[38;5;241m=\u001b[39m browser\u001b[38;5;241m.\u001b[39mhtml\n\u001b[1;32m     14\u001b[0m     test \u001b[38;5;241m=\u001b[39m soup(html, \u001b[38;5;124m'\u001b[39m\u001b[38;5;124mhtml.parser\u001b[39m\u001b[38;5;124m'\u001b[39m)\n",
      "File \u001b[0;32m~/opt/anaconda3/lib/python3.9/site-packages/splinter/driver/webdriver/__init__.py:314\u001b[0m, in \u001b[0;36mBaseWebDriver.visit\u001b[0;34m(self, url)\u001b[0m\n\u001b[1;32m    313\u001b[0m \u001b[38;5;28;01mdef\u001b[39;00m \u001b[38;5;21mvisit\u001b[39m(\u001b[38;5;28mself\u001b[39m, url):\n\u001b[0;32m--> 314\u001b[0m     \u001b[38;5;28;43mself\u001b[39;49m\u001b[38;5;241;43m.\u001b[39;49m\u001b[43mdriver\u001b[49m\u001b[38;5;241;43m.\u001b[39;49m\u001b[43mget\u001b[49m\u001b[43m(\u001b[49m\u001b[43murl\u001b[49m\u001b[43m)\u001b[49m\n",
      "File \u001b[0;32m~/opt/anaconda3/lib/python3.9/site-packages/selenium/webdriver/remote/webdriver.py:437\u001b[0m, in \u001b[0;36mWebDriver.get\u001b[0;34m(self, url)\u001b[0m\n\u001b[1;32m    433\u001b[0m \u001b[38;5;28;01mdef\u001b[39;00m \u001b[38;5;21mget\u001b[39m(\u001b[38;5;28mself\u001b[39m, url: \u001b[38;5;28mstr\u001b[39m) \u001b[38;5;241m-\u001b[39m\u001b[38;5;241m>\u001b[39m \u001b[38;5;28;01mNone\u001b[39;00m:\n\u001b[1;32m    434\u001b[0m     \u001b[38;5;124;03m\"\"\"\u001b[39;00m\n\u001b[1;32m    435\u001b[0m \u001b[38;5;124;03m    Loads a web page in the current browser session.\u001b[39;00m\n\u001b[1;32m    436\u001b[0m \u001b[38;5;124;03m    \"\"\"\u001b[39;00m\n\u001b[0;32m--> 437\u001b[0m     \u001b[38;5;28;43mself\u001b[39;49m\u001b[38;5;241;43m.\u001b[39;49m\u001b[43mexecute\u001b[49m\u001b[43m(\u001b[49m\u001b[43mCommand\u001b[49m\u001b[38;5;241;43m.\u001b[39;49m\u001b[43mGET\u001b[49m\u001b[43m,\u001b[49m\u001b[43m \u001b[49m\u001b[43m{\u001b[49m\u001b[38;5;124;43m'\u001b[39;49m\u001b[38;5;124;43murl\u001b[39;49m\u001b[38;5;124;43m'\u001b[39;49m\u001b[43m:\u001b[49m\u001b[43m \u001b[49m\u001b[43murl\u001b[49m\u001b[43m}\u001b[49m\u001b[43m)\u001b[49m\n",
      "File \u001b[0;32m~/opt/anaconda3/lib/python3.9/site-packages/selenium/webdriver/remote/webdriver.py:423\u001b[0m, in \u001b[0;36mWebDriver.execute\u001b[0;34m(self, driver_command, params)\u001b[0m\n\u001b[1;32m    420\u001b[0m         params[\u001b[38;5;124m'\u001b[39m\u001b[38;5;124msessionId\u001b[39m\u001b[38;5;124m'\u001b[39m] \u001b[38;5;241m=\u001b[39m \u001b[38;5;28mself\u001b[39m\u001b[38;5;241m.\u001b[39msession_id\n\u001b[1;32m    422\u001b[0m params \u001b[38;5;241m=\u001b[39m \u001b[38;5;28mself\u001b[39m\u001b[38;5;241m.\u001b[39m_wrap_value(params)\n\u001b[0;32m--> 423\u001b[0m response \u001b[38;5;241m=\u001b[39m \u001b[38;5;28;43mself\u001b[39;49m\u001b[38;5;241;43m.\u001b[39;49m\u001b[43mcommand_executor\u001b[49m\u001b[38;5;241;43m.\u001b[39;49m\u001b[43mexecute\u001b[49m\u001b[43m(\u001b[49m\u001b[43mdriver_command\u001b[49m\u001b[43m,\u001b[49m\u001b[43m \u001b[49m\u001b[43mparams\u001b[49m\u001b[43m)\u001b[49m\n\u001b[1;32m    424\u001b[0m \u001b[38;5;28;01mif\u001b[39;00m response:\n\u001b[1;32m    425\u001b[0m     \u001b[38;5;28mself\u001b[39m\u001b[38;5;241m.\u001b[39merror_handler\u001b[38;5;241m.\u001b[39mcheck_response(response)\n",
      "File \u001b[0;32m~/opt/anaconda3/lib/python3.9/site-packages/selenium/webdriver/remote/remote_connection.py:333\u001b[0m, in \u001b[0;36mRemoteConnection.execute\u001b[0;34m(self, command, params)\u001b[0m\n\u001b[1;32m    331\u001b[0m data \u001b[38;5;241m=\u001b[39m utils\u001b[38;5;241m.\u001b[39mdump_json(params)\n\u001b[1;32m    332\u001b[0m url \u001b[38;5;241m=\u001b[39m \u001b[38;5;124mf\u001b[39m\u001b[38;5;124m\"\u001b[39m\u001b[38;5;132;01m{\u001b[39;00m\u001b[38;5;28mself\u001b[39m\u001b[38;5;241m.\u001b[39m_url\u001b[38;5;132;01m}\u001b[39;00m\u001b[38;5;132;01m{\u001b[39;00mpath\u001b[38;5;132;01m}\u001b[39;00m\u001b[38;5;124m\"\u001b[39m\n\u001b[0;32m--> 333\u001b[0m \u001b[38;5;28;01mreturn\u001b[39;00m \u001b[38;5;28;43mself\u001b[39;49m\u001b[38;5;241;43m.\u001b[39;49m\u001b[43m_request\u001b[49m\u001b[43m(\u001b[49m\u001b[43mcommand_info\u001b[49m\u001b[43m[\u001b[49m\u001b[38;5;241;43m0\u001b[39;49m\u001b[43m]\u001b[49m\u001b[43m,\u001b[49m\u001b[43m \u001b[49m\u001b[43murl\u001b[49m\u001b[43m,\u001b[49m\u001b[43m \u001b[49m\u001b[43mbody\u001b[49m\u001b[38;5;241;43m=\u001b[39;49m\u001b[43mdata\u001b[49m\u001b[43m)\u001b[49m\n",
      "File \u001b[0;32m~/opt/anaconda3/lib/python3.9/site-packages/splinter/driver/webdriver/remote_connection.py:19\u001b[0m, in \u001b[0;36mpatch_request\u001b[0;34m(self, *args, **kwargs)\u001b[0m\n\u001b[1;32m     17\u001b[0m \u001b[38;5;28;01mfor\u001b[39;00m _ \u001b[38;5;129;01min\u001b[39;00m \u001b[38;5;28mrange\u001b[39m(\u001b[38;5;241m3\u001b[39m):\n\u001b[1;32m     18\u001b[0m     \u001b[38;5;28;01mtry\u001b[39;00m:\n\u001b[0;32m---> 19\u001b[0m         \u001b[38;5;28;01mreturn\u001b[39;00m \u001b[43mold_request\u001b[49m\u001b[43m(\u001b[49m\u001b[38;5;28;43mself\u001b[39;49m\u001b[43m,\u001b[49m\u001b[43m \u001b[49m\u001b[38;5;241;43m*\u001b[39;49m\u001b[43margs\u001b[49m\u001b[43m,\u001b[49m\u001b[43m \u001b[49m\u001b[38;5;241;43m*\u001b[39;49m\u001b[38;5;241;43m*\u001b[39;49m\u001b[43mkwargs\u001b[49m\u001b[43m)\u001b[49m\n\u001b[1;32m     20\u001b[0m     \u001b[38;5;28;01mexcept\u001b[39;00m (socket\u001b[38;5;241m.\u001b[39merror, HTTPException, \u001b[38;5;167;01mIOError\u001b[39;00m, \u001b[38;5;167;01mOSError\u001b[39;00m, MaxRetryError) \u001b[38;5;28;01mas\u001b[39;00m exc:\n\u001b[1;32m     21\u001b[0m         exception \u001b[38;5;241m=\u001b[39m exc\n",
      "File \u001b[0;32m~/opt/anaconda3/lib/python3.9/site-packages/selenium/webdriver/remote/remote_connection.py:355\u001b[0m, in \u001b[0;36mRemoteConnection._request\u001b[0;34m(self, method, url, body)\u001b[0m\n\u001b[1;32m    352\u001b[0m     body \u001b[38;5;241m=\u001b[39m \u001b[38;5;28;01mNone\u001b[39;00m\n\u001b[1;32m    354\u001b[0m \u001b[38;5;28;01mif\u001b[39;00m \u001b[38;5;28mself\u001b[39m\u001b[38;5;241m.\u001b[39mkeep_alive:\n\u001b[0;32m--> 355\u001b[0m     resp \u001b[38;5;241m=\u001b[39m \u001b[38;5;28;43mself\u001b[39;49m\u001b[38;5;241;43m.\u001b[39;49m\u001b[43m_conn\u001b[49m\u001b[38;5;241;43m.\u001b[39;49m\u001b[43mrequest\u001b[49m\u001b[43m(\u001b[49m\u001b[43mmethod\u001b[49m\u001b[43m,\u001b[49m\u001b[43m \u001b[49m\u001b[43murl\u001b[49m\u001b[43m,\u001b[49m\u001b[43m \u001b[49m\u001b[43mbody\u001b[49m\u001b[38;5;241;43m=\u001b[39;49m\u001b[43mbody\u001b[49m\u001b[43m,\u001b[49m\u001b[43m \u001b[49m\u001b[43mheaders\u001b[49m\u001b[38;5;241;43m=\u001b[39;49m\u001b[43mheaders\u001b[49m\u001b[43m)\u001b[49m\n\u001b[1;32m    356\u001b[0m     statuscode \u001b[38;5;241m=\u001b[39m resp\u001b[38;5;241m.\u001b[39mstatus\n\u001b[1;32m    357\u001b[0m \u001b[38;5;28;01melse\u001b[39;00m:\n",
      "File \u001b[0;32m~/opt/anaconda3/lib/python3.9/site-packages/urllib3/request.py:78\u001b[0m, in \u001b[0;36mRequestMethods.request\u001b[0;34m(self, method, url, fields, headers, **urlopen_kw)\u001b[0m\n\u001b[1;32m     74\u001b[0m     \u001b[38;5;28;01mreturn\u001b[39;00m \u001b[38;5;28mself\u001b[39m\u001b[38;5;241m.\u001b[39mrequest_encode_url(\n\u001b[1;32m     75\u001b[0m         method, url, fields\u001b[38;5;241m=\u001b[39mfields, headers\u001b[38;5;241m=\u001b[39mheaders, \u001b[38;5;241m*\u001b[39m\u001b[38;5;241m*\u001b[39murlopen_kw\n\u001b[1;32m     76\u001b[0m     )\n\u001b[1;32m     77\u001b[0m \u001b[38;5;28;01melse\u001b[39;00m:\n\u001b[0;32m---> 78\u001b[0m     \u001b[38;5;28;01mreturn\u001b[39;00m \u001b[38;5;28;43mself\u001b[39;49m\u001b[38;5;241;43m.\u001b[39;49m\u001b[43mrequest_encode_body\u001b[49m\u001b[43m(\u001b[49m\n\u001b[1;32m     79\u001b[0m \u001b[43m        \u001b[49m\u001b[43mmethod\u001b[49m\u001b[43m,\u001b[49m\u001b[43m \u001b[49m\u001b[43murl\u001b[49m\u001b[43m,\u001b[49m\u001b[43m \u001b[49m\u001b[43mfields\u001b[49m\u001b[38;5;241;43m=\u001b[39;49m\u001b[43mfields\u001b[49m\u001b[43m,\u001b[49m\u001b[43m \u001b[49m\u001b[43mheaders\u001b[49m\u001b[38;5;241;43m=\u001b[39;49m\u001b[43mheaders\u001b[49m\u001b[43m,\u001b[49m\u001b[43m \u001b[49m\u001b[38;5;241;43m*\u001b[39;49m\u001b[38;5;241;43m*\u001b[39;49m\u001b[43murlopen_kw\u001b[49m\n\u001b[1;32m     80\u001b[0m \u001b[43m    \u001b[49m\u001b[43m)\u001b[49m\n",
      "File \u001b[0;32m~/opt/anaconda3/lib/python3.9/site-packages/urllib3/request.py:170\u001b[0m, in \u001b[0;36mRequestMethods.request_encode_body\u001b[0;34m(self, method, url, fields, headers, encode_multipart, multipart_boundary, **urlopen_kw)\u001b[0m\n\u001b[1;32m    167\u001b[0m extra_kw[\u001b[38;5;124m\"\u001b[39m\u001b[38;5;124mheaders\u001b[39m\u001b[38;5;124m\"\u001b[39m]\u001b[38;5;241m.\u001b[39mupdate(headers)\n\u001b[1;32m    168\u001b[0m extra_kw\u001b[38;5;241m.\u001b[39mupdate(urlopen_kw)\n\u001b[0;32m--> 170\u001b[0m \u001b[38;5;28;01mreturn\u001b[39;00m \u001b[38;5;28;43mself\u001b[39;49m\u001b[38;5;241;43m.\u001b[39;49m\u001b[43murlopen\u001b[49m\u001b[43m(\u001b[49m\u001b[43mmethod\u001b[49m\u001b[43m,\u001b[49m\u001b[43m \u001b[49m\u001b[43murl\u001b[49m\u001b[43m,\u001b[49m\u001b[43m \u001b[49m\u001b[38;5;241;43m*\u001b[39;49m\u001b[38;5;241;43m*\u001b[39;49m\u001b[43mextra_kw\u001b[49m\u001b[43m)\u001b[49m\n",
      "File \u001b[0;32m~/opt/anaconda3/lib/python3.9/site-packages/urllib3/poolmanager.py:376\u001b[0m, in \u001b[0;36mPoolManager.urlopen\u001b[0;34m(self, method, url, redirect, **kw)\u001b[0m\n\u001b[1;32m    374\u001b[0m     response \u001b[38;5;241m=\u001b[39m conn\u001b[38;5;241m.\u001b[39murlopen(method, url, \u001b[38;5;241m*\u001b[39m\u001b[38;5;241m*\u001b[39mkw)\n\u001b[1;32m    375\u001b[0m \u001b[38;5;28;01melse\u001b[39;00m:\n\u001b[0;32m--> 376\u001b[0m     response \u001b[38;5;241m=\u001b[39m \u001b[43mconn\u001b[49m\u001b[38;5;241;43m.\u001b[39;49m\u001b[43murlopen\u001b[49m\u001b[43m(\u001b[49m\u001b[43mmethod\u001b[49m\u001b[43m,\u001b[49m\u001b[43m \u001b[49m\u001b[43mu\u001b[49m\u001b[38;5;241;43m.\u001b[39;49m\u001b[43mrequest_uri\u001b[49m\u001b[43m,\u001b[49m\u001b[43m \u001b[49m\u001b[38;5;241;43m*\u001b[39;49m\u001b[38;5;241;43m*\u001b[39;49m\u001b[43mkw\u001b[49m\u001b[43m)\u001b[49m\n\u001b[1;32m    378\u001b[0m redirect_location \u001b[38;5;241m=\u001b[39m redirect \u001b[38;5;129;01mand\u001b[39;00m response\u001b[38;5;241m.\u001b[39mget_redirect_location()\n\u001b[1;32m    379\u001b[0m \u001b[38;5;28;01mif\u001b[39;00m \u001b[38;5;129;01mnot\u001b[39;00m redirect_location:\n",
      "File \u001b[0;32m~/opt/anaconda3/lib/python3.9/site-packages/urllib3/connectionpool.py:703\u001b[0m, in \u001b[0;36mHTTPConnectionPool.urlopen\u001b[0;34m(self, method, url, body, headers, retries, redirect, assert_same_host, timeout, pool_timeout, release_conn, chunked, body_pos, **response_kw)\u001b[0m\n\u001b[1;32m    700\u001b[0m     \u001b[38;5;28mself\u001b[39m\u001b[38;5;241m.\u001b[39m_prepare_proxy(conn)\n\u001b[1;32m    702\u001b[0m \u001b[38;5;66;03m# Make the request on the httplib connection object.\u001b[39;00m\n\u001b[0;32m--> 703\u001b[0m httplib_response \u001b[38;5;241m=\u001b[39m \u001b[38;5;28;43mself\u001b[39;49m\u001b[38;5;241;43m.\u001b[39;49m\u001b[43m_make_request\u001b[49m\u001b[43m(\u001b[49m\n\u001b[1;32m    704\u001b[0m \u001b[43m    \u001b[49m\u001b[43mconn\u001b[49m\u001b[43m,\u001b[49m\n\u001b[1;32m    705\u001b[0m \u001b[43m    \u001b[49m\u001b[43mmethod\u001b[49m\u001b[43m,\u001b[49m\n\u001b[1;32m    706\u001b[0m \u001b[43m    \u001b[49m\u001b[43murl\u001b[49m\u001b[43m,\u001b[49m\n\u001b[1;32m    707\u001b[0m \u001b[43m    \u001b[49m\u001b[43mtimeout\u001b[49m\u001b[38;5;241;43m=\u001b[39;49m\u001b[43mtimeout_obj\u001b[49m\u001b[43m,\u001b[49m\n\u001b[1;32m    708\u001b[0m \u001b[43m    \u001b[49m\u001b[43mbody\u001b[49m\u001b[38;5;241;43m=\u001b[39;49m\u001b[43mbody\u001b[49m\u001b[43m,\u001b[49m\n\u001b[1;32m    709\u001b[0m \u001b[43m    \u001b[49m\u001b[43mheaders\u001b[49m\u001b[38;5;241;43m=\u001b[39;49m\u001b[43mheaders\u001b[49m\u001b[43m,\u001b[49m\n\u001b[1;32m    710\u001b[0m \u001b[43m    \u001b[49m\u001b[43mchunked\u001b[49m\u001b[38;5;241;43m=\u001b[39;49m\u001b[43mchunked\u001b[49m\u001b[43m,\u001b[49m\n\u001b[1;32m    711\u001b[0m \u001b[43m\u001b[49m\u001b[43m)\u001b[49m\n\u001b[1;32m    713\u001b[0m \u001b[38;5;66;03m# If we're going to release the connection in ``finally:``, then\u001b[39;00m\n\u001b[1;32m    714\u001b[0m \u001b[38;5;66;03m# the response doesn't need to know about the connection. Otherwise\u001b[39;00m\n\u001b[1;32m    715\u001b[0m \u001b[38;5;66;03m# it will also try to release it and we'll have a double-release\u001b[39;00m\n\u001b[1;32m    716\u001b[0m \u001b[38;5;66;03m# mess.\u001b[39;00m\n\u001b[1;32m    717\u001b[0m response_conn \u001b[38;5;241m=\u001b[39m conn \u001b[38;5;28;01mif\u001b[39;00m \u001b[38;5;129;01mnot\u001b[39;00m release_conn \u001b[38;5;28;01melse\u001b[39;00m \u001b[38;5;28;01mNone\u001b[39;00m\n",
      "File \u001b[0;32m~/opt/anaconda3/lib/python3.9/site-packages/urllib3/connectionpool.py:449\u001b[0m, in \u001b[0;36mHTTPConnectionPool._make_request\u001b[0;34m(self, conn, method, url, timeout, chunked, **httplib_request_kw)\u001b[0m\n\u001b[1;32m    444\u001b[0m             httplib_response \u001b[38;5;241m=\u001b[39m conn\u001b[38;5;241m.\u001b[39mgetresponse()\n\u001b[1;32m    445\u001b[0m         \u001b[38;5;28;01mexcept\u001b[39;00m \u001b[38;5;167;01mBaseException\u001b[39;00m \u001b[38;5;28;01mas\u001b[39;00m e:\n\u001b[1;32m    446\u001b[0m             \u001b[38;5;66;03m# Remove the TypeError from the exception chain in\u001b[39;00m\n\u001b[1;32m    447\u001b[0m             \u001b[38;5;66;03m# Python 3 (including for exceptions like SystemExit).\u001b[39;00m\n\u001b[1;32m    448\u001b[0m             \u001b[38;5;66;03m# Otherwise it looks like a bug in the code.\u001b[39;00m\n\u001b[0;32m--> 449\u001b[0m             \u001b[43msix\u001b[49m\u001b[38;5;241;43m.\u001b[39;49m\u001b[43mraise_from\u001b[49m\u001b[43m(\u001b[49m\u001b[43me\u001b[49m\u001b[43m,\u001b[49m\u001b[43m \u001b[49m\u001b[38;5;28;43;01mNone\u001b[39;49;00m\u001b[43m)\u001b[49m\n\u001b[1;32m    450\u001b[0m \u001b[38;5;28;01mexcept\u001b[39;00m (SocketTimeout, BaseSSLError, SocketError) \u001b[38;5;28;01mas\u001b[39;00m e:\n\u001b[1;32m    451\u001b[0m     \u001b[38;5;28mself\u001b[39m\u001b[38;5;241m.\u001b[39m_raise_timeout(err\u001b[38;5;241m=\u001b[39me, url\u001b[38;5;241m=\u001b[39murl, timeout_value\u001b[38;5;241m=\u001b[39mread_timeout)\n",
      "File \u001b[0;32m<string>:3\u001b[0m, in \u001b[0;36mraise_from\u001b[0;34m(value, from_value)\u001b[0m\n",
      "File \u001b[0;32m~/opt/anaconda3/lib/python3.9/site-packages/urllib3/connectionpool.py:444\u001b[0m, in \u001b[0;36mHTTPConnectionPool._make_request\u001b[0;34m(self, conn, method, url, timeout, chunked, **httplib_request_kw)\u001b[0m\n\u001b[1;32m    441\u001b[0m \u001b[38;5;28;01mexcept\u001b[39;00m \u001b[38;5;167;01mTypeError\u001b[39;00m:\n\u001b[1;32m    442\u001b[0m     \u001b[38;5;66;03m# Python 3\u001b[39;00m\n\u001b[1;32m    443\u001b[0m     \u001b[38;5;28;01mtry\u001b[39;00m:\n\u001b[0;32m--> 444\u001b[0m         httplib_response \u001b[38;5;241m=\u001b[39m \u001b[43mconn\u001b[49m\u001b[38;5;241;43m.\u001b[39;49m\u001b[43mgetresponse\u001b[49m\u001b[43m(\u001b[49m\u001b[43m)\u001b[49m\n\u001b[1;32m    445\u001b[0m     \u001b[38;5;28;01mexcept\u001b[39;00m \u001b[38;5;167;01mBaseException\u001b[39;00m \u001b[38;5;28;01mas\u001b[39;00m e:\n\u001b[1;32m    446\u001b[0m         \u001b[38;5;66;03m# Remove the TypeError from the exception chain in\u001b[39;00m\n\u001b[1;32m    447\u001b[0m         \u001b[38;5;66;03m# Python 3 (including for exceptions like SystemExit).\u001b[39;00m\n\u001b[1;32m    448\u001b[0m         \u001b[38;5;66;03m# Otherwise it looks like a bug in the code.\u001b[39;00m\n\u001b[1;32m    449\u001b[0m         six\u001b[38;5;241m.\u001b[39mraise_from(e, \u001b[38;5;28;01mNone\u001b[39;00m)\n",
      "File \u001b[0;32m~/opt/anaconda3/lib/python3.9/http/client.py:1371\u001b[0m, in \u001b[0;36mHTTPConnection.getresponse\u001b[0;34m(self)\u001b[0m\n\u001b[1;32m   1369\u001b[0m \u001b[38;5;28;01mtry\u001b[39;00m:\n\u001b[1;32m   1370\u001b[0m     \u001b[38;5;28;01mtry\u001b[39;00m:\n\u001b[0;32m-> 1371\u001b[0m         \u001b[43mresponse\u001b[49m\u001b[38;5;241;43m.\u001b[39;49m\u001b[43mbegin\u001b[49m\u001b[43m(\u001b[49m\u001b[43m)\u001b[49m\n\u001b[1;32m   1372\u001b[0m     \u001b[38;5;28;01mexcept\u001b[39;00m \u001b[38;5;167;01mConnectionError\u001b[39;00m:\n\u001b[1;32m   1373\u001b[0m         \u001b[38;5;28mself\u001b[39m\u001b[38;5;241m.\u001b[39mclose()\n",
      "File \u001b[0;32m~/opt/anaconda3/lib/python3.9/http/client.py:319\u001b[0m, in \u001b[0;36mHTTPResponse.begin\u001b[0;34m(self)\u001b[0m\n\u001b[1;32m    317\u001b[0m \u001b[38;5;66;03m# read until we get a non-100 response\u001b[39;00m\n\u001b[1;32m    318\u001b[0m \u001b[38;5;28;01mwhile\u001b[39;00m \u001b[38;5;28;01mTrue\u001b[39;00m:\n\u001b[0;32m--> 319\u001b[0m     version, status, reason \u001b[38;5;241m=\u001b[39m \u001b[38;5;28;43mself\u001b[39;49m\u001b[38;5;241;43m.\u001b[39;49m\u001b[43m_read_status\u001b[49m\u001b[43m(\u001b[49m\u001b[43m)\u001b[49m\n\u001b[1;32m    320\u001b[0m     \u001b[38;5;28;01mif\u001b[39;00m status \u001b[38;5;241m!=\u001b[39m CONTINUE:\n\u001b[1;32m    321\u001b[0m         \u001b[38;5;28;01mbreak\u001b[39;00m\n",
      "File \u001b[0;32m~/opt/anaconda3/lib/python3.9/http/client.py:280\u001b[0m, in \u001b[0;36mHTTPResponse._read_status\u001b[0;34m(self)\u001b[0m\n\u001b[1;32m    279\u001b[0m \u001b[38;5;28;01mdef\u001b[39;00m \u001b[38;5;21m_read_status\u001b[39m(\u001b[38;5;28mself\u001b[39m):\n\u001b[0;32m--> 280\u001b[0m     line \u001b[38;5;241m=\u001b[39m \u001b[38;5;28mstr\u001b[39m(\u001b[38;5;28;43mself\u001b[39;49m\u001b[38;5;241;43m.\u001b[39;49m\u001b[43mfp\u001b[49m\u001b[38;5;241;43m.\u001b[39;49m\u001b[43mreadline\u001b[49m\u001b[43m(\u001b[49m\u001b[43m_MAXLINE\u001b[49m\u001b[43m \u001b[49m\u001b[38;5;241;43m+\u001b[39;49m\u001b[43m \u001b[49m\u001b[38;5;241;43m1\u001b[39;49m\u001b[43m)\u001b[49m, \u001b[38;5;124m\"\u001b[39m\u001b[38;5;124miso-8859-1\u001b[39m\u001b[38;5;124m\"\u001b[39m)\n\u001b[1;32m    281\u001b[0m     \u001b[38;5;28;01mif\u001b[39;00m \u001b[38;5;28mlen\u001b[39m(line) \u001b[38;5;241m>\u001b[39m _MAXLINE:\n\u001b[1;32m    282\u001b[0m         \u001b[38;5;28;01mraise\u001b[39;00m LineTooLong(\u001b[38;5;124m\"\u001b[39m\u001b[38;5;124mstatus line\u001b[39m\u001b[38;5;124m\"\u001b[39m)\n",
      "File \u001b[0;32m~/opt/anaconda3/lib/python3.9/socket.py:704\u001b[0m, in \u001b[0;36mSocketIO.readinto\u001b[0;34m(self, b)\u001b[0m\n\u001b[1;32m    702\u001b[0m \u001b[38;5;28;01mwhile\u001b[39;00m \u001b[38;5;28;01mTrue\u001b[39;00m:\n\u001b[1;32m    703\u001b[0m     \u001b[38;5;28;01mtry\u001b[39;00m:\n\u001b[0;32m--> 704\u001b[0m         \u001b[38;5;28;01mreturn\u001b[39;00m \u001b[38;5;28;43mself\u001b[39;49m\u001b[38;5;241;43m.\u001b[39;49m\u001b[43m_sock\u001b[49m\u001b[38;5;241;43m.\u001b[39;49m\u001b[43mrecv_into\u001b[49m\u001b[43m(\u001b[49m\u001b[43mb\u001b[49m\u001b[43m)\u001b[49m\n\u001b[1;32m    705\u001b[0m     \u001b[38;5;28;01mexcept\u001b[39;00m timeout:\n\u001b[1;32m    706\u001b[0m         \u001b[38;5;28mself\u001b[39m\u001b[38;5;241m.\u001b[39m_timeout_occurred \u001b[38;5;241m=\u001b[39m \u001b[38;5;28;01mTrue\u001b[39;00m\n",
      "\u001b[0;31mKeyboardInterrupt\u001b[0m: "
     ]
    }
   ],
   "source": [
    "\n",
    "test = soup(browser.html, 'html.parser')\n",
    "\n",
    "page_count = len(test.find(class_=\"paging col-xs-12\").find_all(class_=\"page\")) - 1\n",
    "\n",
    "\n",
    "hrefs = []\n",
    "for i in test.find_all(class_=\"product-image-url\"):\n",
    "    hrefs.append(i.get(\"href\"))\n",
    "    \n",
    "for t in hrefs:\n",
    "    time.sleep\n",
    "    browser.visit(t)\n",
    "    \n",
    "    time.sleep(randrange(5))\n",
    "\n",
    "    html = browser.html\n",
    "    test = soup(html, 'html.parser')\n",
    "\n",
    "    name = test.find(class_=\"product-h1-container-v2 visible-lg-block visible-xl-block\").find(\"h1\").get_text()\n",
    "\n",
    "    info = {}\n",
    "    for i in test.find_all(class_=\"product-info-description\")[1].find_all(class_=\"row\"):\n",
    "        info[i.find(class_=\"spec-name col-xs-6 col-md-5 col-lg-4\").get_text()] = i.find(class_=\"col-xs-6 col-md-7 col-lg-8\").get_text()\n",
    "        if test.find(class_=\"pills-section\").get_text() != '\\n\\n\\nWarehouse Only\\n\\n\\n':\n",
    "                info[\"Price\"] = test.find(id=\"pull-right-price\").find(class_=\"value\").get_text()\n",
    "\n",
    "    name_dict[name] = info\n",
    "\n",
    "browser.visit(cats2)\n",
    "\n",
    "test = soup(browser.html, 'html.parser')\n",
    "        \n",
    "for page in range(page_count):\n",
    "    test = soup(browser.html, 'html.parser')\n",
    "    time.sleep(randrange(5))\n",
    "    next_page = test.find(class_=\"paging col-xs-12\").find_all(class_=\"page\")[page + 1].find(\"a\").get(\"href\")\n",
    "    browser.visit(next_page)\n",
    "    \n",
    "    html = browser.html\n",
    "    test = soup(html, 'html.parser')\n",
    "    \n",
    "    hrefs = []\n",
    "    for i in test.find_all(class_=\"product-image-url\"):\n",
    "        hrefs.append(i.get(\"href\"))\n",
    "\n",
    "    for t in hrefs:\n",
    "        browser.visit(t)\n",
    "        time.sleep(randrange(5))\n",
    "\n",
    "        html = browser.html\n",
    "        test = soup(html, 'html.parser')\n",
    "\n",
    "        name = test.find(class_=\"product-h1-container-v2 visible-lg-block visible-xl-block\").find(\"h1\").get_text()\n",
    "\n",
    "        info = {}\n",
    "        for i in test.find_all(class_=\"product-info-description\")[1].find_all(class_=\"row\"):\n",
    "            info[i.find(class_=\"spec-name col-xs-6 col-md-5 col-lg-4\").get_text()] = i.find(class_=\"col-xs-6 col-md-7 col-lg-8\").get_text()\n",
    "            if test.find(class_=\"pills-section\").get_text() != '\\n\\n\\nWarehouse Only\\n\\n\\n':\n",
    "                info[\"Price\"] = test.find(id=\"pull-right-price\").find(class_=\"value\").get_text()\n",
    "        name_dict[name] = info\n",
    "      \n",
    "    browser.visit(cats2)"
   ]
  },
  {
   "cell_type": "code",
   "execution_count": null,
   "id": "3f839864",
   "metadata": {},
   "outputs": [],
   "source": [
    "test.find(class_=\"paging col-xs-12\")"
   ]
  },
  {
   "cell_type": "code",
   "execution_count": 153,
   "id": "19d3d1a6",
   "metadata": {},
   "outputs": [],
   "source": [
    "if test.find(class_=\"pills-section\").get_text() != '\\n\\n\\nWarehouse Only\\n\\n\\n':\n",
    "    print(\"True\")"
   ]
  },
  {
   "cell_type": "code",
   "execution_count": 141,
   "id": "aa3b4649",
   "metadata": {},
   "outputs": [
    {
     "data": {
      "text/plain": [
       "'\\n\\n\\nWarehouse Only\\n\\n\\n'"
      ]
     },
     "execution_count": 141,
     "metadata": {},
     "output_type": "execute_result"
    }
   ],
   "source": [
    "test.find(class_=\"pills-section\").get_text()"
   ]
  },
  {
   "cell_type": "code",
   "execution_count": 100,
   "id": "1a9ca069",
   "metadata": {},
   "outputs": [
    {
     "ename": "AttributeError",
     "evalue": "'NoneType' object has no attribute 'find'",
     "output_type": "error",
     "traceback": [
      "\u001b[0;31m---------------------------------------------------------------------------\u001b[0m",
      "\u001b[0;31mAttributeError\u001b[0m                            Traceback (most recent call last)",
      "Input \u001b[0;32mIn [100]\u001b[0m, in \u001b[0;36m<cell line: 1>\u001b[0;34m()\u001b[0m\n\u001b[0;32m----> 1\u001b[0m \u001b[38;5;28;01mif\u001b[39;00m \u001b[43mtest\u001b[49m\u001b[38;5;241;43m.\u001b[39;49m\u001b[43mfind\u001b[49m\u001b[43m(\u001b[49m\u001b[38;5;28;43mid\u001b[39;49m\u001b[38;5;241;43m=\u001b[39;49m\u001b[38;5;124;43m\"\u001b[39;49m\u001b[38;5;124;43mpull-right-price\u001b[39;49m\u001b[38;5;124;43m\"\u001b[39;49m\u001b[43m)\u001b[49m\u001b[38;5;241;43m.\u001b[39;49m\u001b[43mfind\u001b[49m(class_\u001b[38;5;241m=\u001b[39m\u001b[38;5;124m\"\u001b[39m\u001b[38;5;124mvalue\u001b[39m\u001b[38;5;124m\"\u001b[39m)\u001b[38;5;241m.\u001b[39mget_text() \u001b[38;5;241m==\u001b[39m np\u001b[38;5;241m.\u001b[39mnan:\n\u001b[1;32m      2\u001b[0m     \u001b[38;5;28mprint\u001b[39m(\u001b[38;5;28;01mTrue\u001b[39;00m)\n",
      "\u001b[0;31mAttributeError\u001b[0m: 'NoneType' object has no attribute 'find'"
     ]
    }
   ],
   "source": [
    "if test.find(id=\"pull-right-price\").find(class_=\"value\").get_text() == np.nan:\n",
    "    print(True)"
   ]
  },
  {
   "cell_type": "code",
   "execution_count": 71,
   "id": "47b8d3c8",
   "metadata": {},
   "outputs": [],
   "source": [
    "test.find(class_=\"paging col-xs-12\")"
   ]
  },
  {
   "cell_type": "code",
   "execution_count": 181,
   "id": "f13a76e4",
   "metadata": {},
   "outputs": [
    {
     "data": {
      "text/html": [
       "<div>\n",
       "<style scoped>\n",
       "    .dataframe tbody tr th:only-of-type {\n",
       "        vertical-align: middle;\n",
       "    }\n",
       "\n",
       "    .dataframe tbody tr th {\n",
       "        vertical-align: top;\n",
       "    }\n",
       "\n",
       "    .dataframe thead th {\n",
       "        text-align: right;\n",
       "    }\n",
       "</style>\n",
       "<table border=\"1\" class=\"dataframe\">\n",
       "  <thead>\n",
       "    <tr style=\"text-align: right;\">\n",
       "      <th></th>\n",
       "      <th>Zipfizz Healthy Energy Drink Mix, 30 Tubes</th>\n",
       "      <th>Nature Made Extra Strength Vitamin D3 125 mcg, 220 Softgels</th>\n",
       "      <th>EcoDrink Complete Multivitamin Drink Mix, 30 Packets</th>\n",
       "      <th>Terra Kai USDA Organic Juce Super Greens Fruit and Veggie Powder, 13.23 Ounces</th>\n",
       "      <th>Terra Kai USDA Organic Juce Super Fruit &amp; Veggie Powder, 12.2 Ounces</th>\n",
       "      <th>Nature Made Super C with Vitamin D3 and Zinc, 200 Tablets</th>\n",
       "      <th>Zipfizz Healthy Energy Drink Mix, Variety Pack, 30 Tubes</th>\n",
       "      <th>Emergen-C Vitamin C 1,000 mg. Variety Pack Drink Mix, 90 Packets</th>\n",
       "      <th>Centrum Silver Adults 50+ Multivitamin, 325 Tablets</th>\n",
       "      <th>Natrol JuiceFestiv Daily Fruit &amp; Veggie, 240 Capsules</th>\n",
       "      <th>...</th>\n",
       "      <th>trunature Ginkgo Biloba, 340 Softgels</th>\n",
       "      <th>Nature Made Super B-Complex, 460 Tablets</th>\n",
       "      <th>Nature Made Prenatal Multi + DHA, 150 Softgels</th>\n",
       "      <th>Nature's Lab One Daily Multivitamin, 120 Vegetarian Capsules</th>\n",
       "      <th>Kirkland Signature Extra Strength Energy Shot, 48 Bottles, 2 Ounces Each</th>\n",
       "      <th>PreserVision AREDS 2 Formula + Multivitamin, 180 Soft Gels</th>\n",
       "      <th>One A Day Women's 50+ Healthy Advantage Multivitamin, 300 Tablets</th>\n",
       "      <th>PreserVision AREDS 2 Formula, 210 Soft Gels</th>\n",
       "      <th>Kirkland Signature Quick Dissolve B-12 5000 mcg., 300 Tablets</th>\n",
       "      <th>One A Day Men's 50+ Healthy Advantage Multivitamin, 300 Tablets</th>\n",
       "    </tr>\n",
       "  </thead>\n",
       "  <tbody>\n",
       "    <tr>\n",
       "      <th>Brand</th>\n",
       "      <td>Zipfizz</td>\n",
       "      <td>Nature Made</td>\n",
       "      <td>EcoDrink</td>\n",
       "      <td>Terra Kai Organics</td>\n",
       "      <td>Terra Kai Organics</td>\n",
       "      <td>Nature Made</td>\n",
       "      <td>Zipfizz</td>\n",
       "      <td>Emergen-C</td>\n",
       "      <td>Centrum</td>\n",
       "      <td>Natrol</td>\n",
       "      <td>...</td>\n",
       "      <td>trunature</td>\n",
       "      <td>Nature Made</td>\n",
       "      <td>Nature Made</td>\n",
       "      <td>Nature's Lab</td>\n",
       "      <td>Kirkland Signature</td>\n",
       "      <td>Bausch + Lomb</td>\n",
       "      <td>One A Day</td>\n",
       "      <td>Bausch + Lomb</td>\n",
       "      <td>Kirkland Signature</td>\n",
       "      <td>One A Day</td>\n",
       "    </tr>\n",
       "    <tr>\n",
       "      <th>Price</th>\n",
       "      <td>22.99</td>\n",
       "      <td>18.99</td>\n",
       "      <td>22.99</td>\n",
       "      <td>23.99</td>\n",
       "      <td>23.99</td>\n",
       "      <td>14.99</td>\n",
       "      <td>22.99</td>\n",
       "      <td>26.99</td>\n",
       "      <td>24.99</td>\n",
       "      <td>19.49</td>\n",
       "      <td>...</td>\n",
       "      <td>17.99</td>\n",
       "      <td>22.99</td>\n",
       "      <td>24.99</td>\n",
       "      <td>24.99</td>\n",
       "      <td>43.99</td>\n",
       "      <td>39.99</td>\n",
       "      <td>20.99</td>\n",
       "      <td>39.99</td>\n",
       "      <td>21.99</td>\n",
       "      <td>20.99</td>\n",
       "    </tr>\n",
       "    <tr>\n",
       "      <th>Container Size</th>\n",
       "      <td>0.39 oz.</td>\n",
       "      <td>NaN</td>\n",
       "      <td>0.2 oz.</td>\n",
       "      <td>12.2 oz.</td>\n",
       "      <td>12.2 oz.</td>\n",
       "      <td>NaN</td>\n",
       "      <td>NaN</td>\n",
       "      <td>NaN</td>\n",
       "      <td>NaN</td>\n",
       "      <td>NaN</td>\n",
       "      <td>...</td>\n",
       "      <td>NaN</td>\n",
       "      <td>NaN</td>\n",
       "      <td>NaN</td>\n",
       "      <td>NaN</td>\n",
       "      <td>2 fl. oz.</td>\n",
       "      <td>NaN</td>\n",
       "      <td>NaN</td>\n",
       "      <td>NaN</td>\n",
       "      <td>NaN</td>\n",
       "      <td>NaN</td>\n",
       "    </tr>\n",
       "    <tr>\n",
       "      <th>Dietary Features</th>\n",
       "      <td>Sugar Free</td>\n",
       "      <td>Gluten Free</td>\n",
       "      <td>NaN</td>\n",
       "      <td>Vegan</td>\n",
       "      <td>Organic</td>\n",
       "      <td>NaN</td>\n",
       "      <td>Sugar Free</td>\n",
       "      <td>Vegetarian</td>\n",
       "      <td>Non GMO</td>\n",
       "      <td>NaN</td>\n",
       "      <td>...</td>\n",
       "      <td>NaN</td>\n",
       "      <td>Gluten Free</td>\n",
       "      <td>Gluten Free</td>\n",
       "      <td>Non GMO</td>\n",
       "      <td>Sugar Free</td>\n",
       "      <td>NaN</td>\n",
       "      <td>Gluten Free</td>\n",
       "      <td>NaN</td>\n",
       "      <td>Lactose Free</td>\n",
       "      <td>Gluten Free</td>\n",
       "    </tr>\n",
       "    <tr>\n",
       "      <th>Form</th>\n",
       "      <td>Powder</td>\n",
       "      <td>Softgel</td>\n",
       "      <td>Powder</td>\n",
       "      <td>Powder</td>\n",
       "      <td>Powder</td>\n",
       "      <td>Tablet</td>\n",
       "      <td>Powder</td>\n",
       "      <td>Powder</td>\n",
       "      <td>Tablet</td>\n",
       "      <td>Capsule</td>\n",
       "      <td>...</td>\n",
       "      <td>Softgel</td>\n",
       "      <td>Tablet</td>\n",
       "      <td>Softgel</td>\n",
       "      <td>Capsule</td>\n",
       "      <td>Liquid</td>\n",
       "      <td>Softgel</td>\n",
       "      <td>Tablet</td>\n",
       "      <td>Softgel</td>\n",
       "      <td>Tablet</td>\n",
       "      <td>Tablet</td>\n",
       "    </tr>\n",
       "    <tr>\n",
       "      <th>Quantity</th>\n",
       "      <td>30 Tube(s)</td>\n",
       "      <td>220 Softgels</td>\n",
       "      <td>30 Packet(s)</td>\n",
       "      <td>1 Can(s)</td>\n",
       "      <td>1 Can(s)</td>\n",
       "      <td>200 Tablets</td>\n",
       "      <td>NaN</td>\n",
       "      <td>NaN</td>\n",
       "      <td>325 Tablets</td>\n",
       "      <td>120 Capsules</td>\n",
       "      <td>...</td>\n",
       "      <td>340 Softgels</td>\n",
       "      <td>460 Tablets</td>\n",
       "      <td>150 Softgels</td>\n",
       "      <td>120 Capsules</td>\n",
       "      <td>48 Bottle(s)</td>\n",
       "      <td>180 Softgels</td>\n",
       "      <td>300 Tablets</td>\n",
       "      <td>210 Softgels</td>\n",
       "      <td>300 Tablets</td>\n",
       "      <td>300 Tablets</td>\n",
       "    </tr>\n",
       "    <tr>\n",
       "      <th>Vitamin Letter</th>\n",
       "      <td>NaN</td>\n",
       "      <td>Vitamin D</td>\n",
       "      <td>NaN</td>\n",
       "      <td>NaN</td>\n",
       "      <td>NaN</td>\n",
       "      <td>Vitamin C</td>\n",
       "      <td>NaN</td>\n",
       "      <td>Vitamin C</td>\n",
       "      <td>NaN</td>\n",
       "      <td>NaN</td>\n",
       "      <td>...</td>\n",
       "      <td>NaN</td>\n",
       "      <td>Vitamin B</td>\n",
       "      <td>NaN</td>\n",
       "      <td>NaN</td>\n",
       "      <td>NaN</td>\n",
       "      <td>NaN</td>\n",
       "      <td>NaN</td>\n",
       "      <td>NaN</td>\n",
       "      <td>Vitamin B</td>\n",
       "      <td>NaN</td>\n",
       "    </tr>\n",
       "    <tr>\n",
       "      <th>Container Type</th>\n",
       "      <td>NaN</td>\n",
       "      <td>NaN</td>\n",
       "      <td>NaN</td>\n",
       "      <td>NaN</td>\n",
       "      <td>NaN</td>\n",
       "      <td>NaN</td>\n",
       "      <td>Tube</td>\n",
       "      <td>NaN</td>\n",
       "      <td>NaN</td>\n",
       "      <td>NaN</td>\n",
       "      <td>...</td>\n",
       "      <td>NaN</td>\n",
       "      <td>NaN</td>\n",
       "      <td>NaN</td>\n",
       "      <td>NaN</td>\n",
       "      <td>NaN</td>\n",
       "      <td>NaN</td>\n",
       "      <td>NaN</td>\n",
       "      <td>NaN</td>\n",
       "      <td>NaN</td>\n",
       "      <td>NaN</td>\n",
       "    </tr>\n",
       "    <tr>\n",
       "      <th>Flavor</th>\n",
       "      <td>NaN</td>\n",
       "      <td>NaN</td>\n",
       "      <td>NaN</td>\n",
       "      <td>NaN</td>\n",
       "      <td>NaN</td>\n",
       "      <td>NaN</td>\n",
       "      <td>NaN</td>\n",
       "      <td>NaN</td>\n",
       "      <td>NaN</td>\n",
       "      <td>NaN</td>\n",
       "      <td>...</td>\n",
       "      <td>NaN</td>\n",
       "      <td>NaN</td>\n",
       "      <td>NaN</td>\n",
       "      <td>NaN</td>\n",
       "      <td>Assorted</td>\n",
       "      <td>NaN</td>\n",
       "      <td>NaN</td>\n",
       "      <td>NaN</td>\n",
       "      <td>NaN</td>\n",
       "      <td>NaN</td>\n",
       "    </tr>\n",
       "    <tr>\n",
       "      <th>Features</th>\n",
       "      <td>NaN</td>\n",
       "      <td>NaN</td>\n",
       "      <td>NaN</td>\n",
       "      <td>NaN</td>\n",
       "      <td>NaN</td>\n",
       "      <td>NaN</td>\n",
       "      <td>NaN</td>\n",
       "      <td>NaN</td>\n",
       "      <td>NaN</td>\n",
       "      <td>NaN</td>\n",
       "      <td>...</td>\n",
       "      <td>NaN</td>\n",
       "      <td>NaN</td>\n",
       "      <td>FSA Eligible</td>\n",
       "      <td>NaN</td>\n",
       "      <td>NaN</td>\n",
       "      <td>NaN</td>\n",
       "      <td>NaN</td>\n",
       "      <td>NaN</td>\n",
       "      <td>NaN</td>\n",
       "      <td>NaN</td>\n",
       "    </tr>\n",
       "  </tbody>\n",
       "</table>\n",
       "<p>10 rows × 54 columns</p>\n",
       "</div>"
      ],
      "text/plain": [
       "                 Zipfizz Healthy Energy Drink Mix, 30 Tubes  \\\n",
       "Brand                                               Zipfizz   \n",
       "Price                                                 22.99   \n",
       "Container Size                                     0.39 oz.   \n",
       "Dietary Features                                 Sugar Free   \n",
       "Form                                                 Powder   \n",
       "Quantity                                         30 Tube(s)   \n",
       "Vitamin Letter                                          NaN   \n",
       "Container Type                                          NaN   \n",
       "Flavor                                                  NaN   \n",
       "Features                                                NaN   \n",
       "\n",
       "                 Nature Made Extra Strength Vitamin D3 125 mcg, 220 Softgels  \\\n",
       "Brand                                                   Nature Made            \n",
       "Price                                                         18.99            \n",
       "Container Size                                                  NaN            \n",
       "Dietary Features                                        Gluten Free            \n",
       "Form                                                        Softgel            \n",
       "Quantity                                               220 Softgels            \n",
       "Vitamin Letter                                            Vitamin D            \n",
       "Container Type                                                  NaN            \n",
       "Flavor                                                          NaN            \n",
       "Features                                                        NaN            \n",
       "\n",
       "                 EcoDrink Complete Multivitamin Drink Mix, 30 Packets  \\\n",
       "Brand                                                      EcoDrink     \n",
       "Price                                                         22.99     \n",
       "Container Size                                              0.2 oz.     \n",
       "Dietary Features                                                NaN     \n",
       "Form                                                         Powder     \n",
       "Quantity                                               30 Packet(s)     \n",
       "Vitamin Letter                                                  NaN     \n",
       "Container Type                                                  NaN     \n",
       "Flavor                                                          NaN     \n",
       "Features                                                        NaN     \n",
       "\n",
       "                 Terra Kai USDA Organic Juce Super Greens Fruit and Veggie Powder, 13.23 Ounces  \\\n",
       "Brand                                            Terra Kai Organics                               \n",
       "Price                                                         23.99                               \n",
       "Container Size                                             12.2 oz.                               \n",
       "Dietary Features                                              Vegan                               \n",
       "Form                                                         Powder                               \n",
       "Quantity                                                   1 Can(s)                               \n",
       "Vitamin Letter                                                  NaN                               \n",
       "Container Type                                                  NaN                               \n",
       "Flavor                                                          NaN                               \n",
       "Features                                                        NaN                               \n",
       "\n",
       "                 Terra Kai USDA Organic Juce Super Fruit & Veggie Powder, 12.2 Ounces  \\\n",
       "Brand                                            Terra Kai Organics                     \n",
       "Price                                                         23.99                     \n",
       "Container Size                                             12.2 oz.                     \n",
       "Dietary Features                                            Organic                     \n",
       "Form                                                         Powder                     \n",
       "Quantity                                                   1 Can(s)                     \n",
       "Vitamin Letter                                                  NaN                     \n",
       "Container Type                                                  NaN                     \n",
       "Flavor                                                          NaN                     \n",
       "Features                                                        NaN                     \n",
       "\n",
       "                 Nature Made Super C with Vitamin D3 and Zinc, 200 Tablets  \\\n",
       "Brand                                                   Nature Made          \n",
       "Price                                                         14.99          \n",
       "Container Size                                                  NaN          \n",
       "Dietary Features                                                NaN          \n",
       "Form                                                         Tablet          \n",
       "Quantity                                                200 Tablets          \n",
       "Vitamin Letter                                            Vitamin C          \n",
       "Container Type                                                  NaN          \n",
       "Flavor                                                          NaN          \n",
       "Features                                                        NaN          \n",
       "\n",
       "                 Zipfizz Healthy Energy Drink Mix, Variety Pack, 30 Tubes  \\\n",
       "Brand                                                       Zipfizz         \n",
       "Price                                                         22.99         \n",
       "Container Size                                                  NaN         \n",
       "Dietary Features                                         Sugar Free         \n",
       "Form                                                         Powder         \n",
       "Quantity                                                        NaN         \n",
       "Vitamin Letter                                                  NaN         \n",
       "Container Type                                                 Tube         \n",
       "Flavor                                                          NaN         \n",
       "Features                                                        NaN         \n",
       "\n",
       "                 Emergen-C Vitamin C 1,000 mg. Variety Pack Drink Mix, 90 Packets  \\\n",
       "Brand                                                     Emergen-C                 \n",
       "Price                                                         26.99                 \n",
       "Container Size                                                  NaN                 \n",
       "Dietary Features                                         Vegetarian                 \n",
       "Form                                                         Powder                 \n",
       "Quantity                                                        NaN                 \n",
       "Vitamin Letter                                            Vitamin C                 \n",
       "Container Type                                                  NaN                 \n",
       "Flavor                                                          NaN                 \n",
       "Features                                                        NaN                 \n",
       "\n",
       "                 Centrum Silver Adults 50+ Multivitamin, 325 Tablets   \\\n",
       "Brand                                                       Centrum     \n",
       "Price                                                         24.99     \n",
       "Container Size                                                  NaN     \n",
       "Dietary Features                                            Non GMO     \n",
       "Form                                                         Tablet     \n",
       "Quantity                                                325 Tablets     \n",
       "Vitamin Letter                                                  NaN     \n",
       "Container Type                                                  NaN     \n",
       "Flavor                                                          NaN     \n",
       "Features                                                        NaN     \n",
       "\n",
       "                 Natrol JuiceFestiv Daily Fruit & Veggie, 240 Capsules  ...  \\\n",
       "Brand                                                        Natrol     ...   \n",
       "Price                                                         19.49     ...   \n",
       "Container Size                                                  NaN     ...   \n",
       "Dietary Features                                                NaN     ...   \n",
       "Form                                                        Capsule     ...   \n",
       "Quantity                                               120 Capsules     ...   \n",
       "Vitamin Letter                                                  NaN     ...   \n",
       "Container Type                                                  NaN     ...   \n",
       "Flavor                                                          NaN     ...   \n",
       "Features                                                        NaN     ...   \n",
       "\n",
       "                 trunature Ginkgo Biloba, 340 Softgels  \\\n",
       "Brand                                        trunature   \n",
       "Price                                            17.99   \n",
       "Container Size                                     NaN   \n",
       "Dietary Features                                   NaN   \n",
       "Form                                           Softgel   \n",
       "Quantity                                  340 Softgels   \n",
       "Vitamin Letter                                     NaN   \n",
       "Container Type                                     NaN   \n",
       "Flavor                                             NaN   \n",
       "Features                                           NaN   \n",
       "\n",
       "                 Nature Made Super B-Complex, 460 Tablets  \\\n",
       "Brand                                         Nature Made   \n",
       "Price                                               22.99   \n",
       "Container Size                                        NaN   \n",
       "Dietary Features                              Gluten Free   \n",
       "Form                                               Tablet   \n",
       "Quantity                                      460 Tablets   \n",
       "Vitamin Letter                                  Vitamin B   \n",
       "Container Type                                        NaN   \n",
       "Flavor                                                NaN   \n",
       "Features                                              NaN   \n",
       "\n",
       "                 Nature Made Prenatal Multi + DHA, 150 Softgels  \\\n",
       "Brand                                               Nature Made   \n",
       "Price                                                     24.99   \n",
       "Container Size                                              NaN   \n",
       "Dietary Features                                    Gluten Free   \n",
       "Form                                                    Softgel   \n",
       "Quantity                                           150 Softgels   \n",
       "Vitamin Letter                                              NaN   \n",
       "Container Type                                              NaN   \n",
       "Flavor                                                      NaN   \n",
       "Features                                           FSA Eligible   \n",
       "\n",
       "                 Nature's Lab One Daily Multivitamin, 120 Vegetarian Capsules  \\\n",
       "Brand                                                  Nature's Lab             \n",
       "Price                                                         24.99             \n",
       "Container Size                                                  NaN             \n",
       "Dietary Features                                            Non GMO             \n",
       "Form                                                        Capsule             \n",
       "Quantity                                               120 Capsules             \n",
       "Vitamin Letter                                                  NaN             \n",
       "Container Type                                                  NaN             \n",
       "Flavor                                                          NaN             \n",
       "Features                                                        NaN             \n",
       "\n",
       "                 Kirkland Signature Extra Strength Energy Shot, 48 Bottles, 2 Ounces Each  \\\n",
       "Brand                                            Kirkland Signature                         \n",
       "Price                                                         43.99                         \n",
       "Container Size                                            2 fl. oz.                         \n",
       "Dietary Features                                         Sugar Free                         \n",
       "Form                                                         Liquid                         \n",
       "Quantity                                               48 Bottle(s)                         \n",
       "Vitamin Letter                                                  NaN                         \n",
       "Container Type                                                  NaN                         \n",
       "Flavor                                                     Assorted                         \n",
       "Features                                                        NaN                         \n",
       "\n",
       "                 PreserVision AREDS 2 Formula + Multivitamin, 180 Soft Gels  \\\n",
       "Brand                                                 Bausch + Lomb           \n",
       "Price                                                         39.99           \n",
       "Container Size                                                  NaN           \n",
       "Dietary Features                                                NaN           \n",
       "Form                                                        Softgel           \n",
       "Quantity                                               180 Softgels           \n",
       "Vitamin Letter                                                  NaN           \n",
       "Container Type                                                  NaN           \n",
       "Flavor                                                          NaN           \n",
       "Features                                                        NaN           \n",
       "\n",
       "                 One A Day Women's 50+ Healthy Advantage Multivitamin, 300 Tablets  \\\n",
       "Brand                                                     One A Day                  \n",
       "Price                                                         20.99                  \n",
       "Container Size                                                  NaN                  \n",
       "Dietary Features                                        Gluten Free                  \n",
       "Form                                                         Tablet                  \n",
       "Quantity                                                300 Tablets                  \n",
       "Vitamin Letter                                                  NaN                  \n",
       "Container Type                                                  NaN                  \n",
       "Flavor                                                          NaN                  \n",
       "Features                                                        NaN                  \n",
       "\n",
       "                 PreserVision AREDS 2 Formula, 210 Soft Gels  \\\n",
       "Brand                                          Bausch + Lomb   \n",
       "Price                                                  39.99   \n",
       "Container Size                                           NaN   \n",
       "Dietary Features                                         NaN   \n",
       "Form                                                 Softgel   \n",
       "Quantity                                        210 Softgels   \n",
       "Vitamin Letter                                           NaN   \n",
       "Container Type                                           NaN   \n",
       "Flavor                                                   NaN   \n",
       "Features                                                 NaN   \n",
       "\n",
       "                 Kirkland Signature Quick Dissolve B-12 5000 mcg., 300 Tablets  \\\n",
       "Brand                                            Kirkland Signature              \n",
       "Price                                                         21.99              \n",
       "Container Size                                                  NaN              \n",
       "Dietary Features                                       Lactose Free              \n",
       "Form                                                         Tablet              \n",
       "Quantity                                                300 Tablets              \n",
       "Vitamin Letter                                            Vitamin B              \n",
       "Container Type                                                  NaN              \n",
       "Flavor                                                          NaN              \n",
       "Features                                                        NaN              \n",
       "\n",
       "                 One A Day Men's 50+ Healthy Advantage Multivitamin, 300 Tablets  \n",
       "Brand                                                     One A Day               \n",
       "Price                                                         20.99               \n",
       "Container Size                                                  NaN               \n",
       "Dietary Features                                        Gluten Free               \n",
       "Form                                                         Tablet               \n",
       "Quantity                                                300 Tablets               \n",
       "Vitamin Letter                                                  NaN               \n",
       "Container Type                                                  NaN               \n",
       "Flavor                                                          NaN               \n",
       "Features                                                        NaN               \n",
       "\n",
       "[10 rows x 54 columns]"
      ]
     },
     "execution_count": 181,
     "metadata": {},
     "output_type": "execute_result"
    }
   ],
   "source": [
    "pd.DataFrame(name_dict)"
   ]
  },
  {
   "cell_type": "code",
   "execution_count": 65,
   "id": "11dd1479",
   "metadata": {},
   "outputs": [],
   "source": [
    "html = browser.html\n",
    "test = soup(html, 'html.parser')"
   ]
  },
  {
   "cell_type": "code",
   "execution_count": 68,
   "id": "fe628937",
   "metadata": {},
   "outputs": [
    {
     "ename": "AttributeError",
     "evalue": "ResultSet object has no attribute 'find_all'. You're probably treating a list of elements like a single element. Did you call find_all() when you meant to call find()?",
     "output_type": "error",
     "traceback": [
      "\u001b[0;31m---------------------------------------------------------------------------\u001b[0m",
      "\u001b[0;31mAttributeError\u001b[0m                            Traceback (most recent call last)",
      "Input \u001b[0;32mIn [68]\u001b[0m, in \u001b[0;36m<cell line: 1>\u001b[0;34m()\u001b[0m\n\u001b[0;32m----> 1\u001b[0m \u001b[43mtest\u001b[49m\u001b[38;5;241;43m.\u001b[39;49m\u001b[43mfind\u001b[49m\u001b[43m(\u001b[49m\u001b[43mclass_\u001b[49m\u001b[38;5;241;43m=\u001b[39;49m\u001b[38;5;124;43m\"\u001b[39;49m\u001b[38;5;124;43mcategoryclist_v2\u001b[39;49m\u001b[38;5;124;43m\"\u001b[39;49m\u001b[43m)\u001b[49m\u001b[38;5;241;43m.\u001b[39;49m\u001b[43mfind_all\u001b[49m\u001b[43m(\u001b[49m\u001b[43mclass_\u001b[49m\u001b[38;5;241;43m=\u001b[39;49m\u001b[38;5;124;43m\"\u001b[39;49m\u001b[38;5;124;43mrow\u001b[39;49m\u001b[38;5;124;43m\"\u001b[39;49m\u001b[43m)\u001b[49m\u001b[38;5;241;43m.\u001b[39;49m\u001b[43mfind_all\u001b[49m(class_\u001b[38;5;241m=\u001b[39m\u001b[38;5;124m\"\u001b[39m\u001b[38;5;124mcol-xs-12 col-lg-6 col-xl-5ths\u001b[39m\u001b[38;5;124m\"\u001b[39m)\n",
      "File \u001b[0;32m~/opt/anaconda3/lib/python3.9/site-packages/bs4/element.py:2289\u001b[0m, in \u001b[0;36mResultSet.__getattr__\u001b[0;34m(self, key)\u001b[0m\n\u001b[1;32m   2287\u001b[0m \u001b[38;5;28;01mdef\u001b[39;00m \u001b[38;5;21m__getattr__\u001b[39m(\u001b[38;5;28mself\u001b[39m, key):\n\u001b[1;32m   2288\u001b[0m     \u001b[38;5;124;03m\"\"\"Raise a helpful exception to explain a common code fix.\"\"\"\u001b[39;00m\n\u001b[0;32m-> 2289\u001b[0m     \u001b[38;5;28;01mraise\u001b[39;00m \u001b[38;5;167;01mAttributeError\u001b[39;00m(\n\u001b[1;32m   2290\u001b[0m         \u001b[38;5;124m\"\u001b[39m\u001b[38;5;124mResultSet object has no attribute \u001b[39m\u001b[38;5;124m'\u001b[39m\u001b[38;5;132;01m%s\u001b[39;00m\u001b[38;5;124m'\u001b[39m\u001b[38;5;124m. You\u001b[39m\u001b[38;5;124m'\u001b[39m\u001b[38;5;124mre probably treating a list of elements like a single element. Did you call find_all() when you meant to call find()?\u001b[39m\u001b[38;5;124m\"\u001b[39m \u001b[38;5;241m%\u001b[39m key\n\u001b[1;32m   2291\u001b[0m     )\n",
      "\u001b[0;31mAttributeError\u001b[0m: ResultSet object has no attribute 'find_all'. You're probably treating a list of elements like a single element. Did you call find_all() when you meant to call find()?"
     ]
    }
   ],
   "source": [
    "test.find(class_=\"categoryclist_v2\").find_all(class_=\"row\").find_all(class_=\"col-xs-12 col-lg-6 col-xl-5ths\")"
   ]
  },
  {
   "cell_type": "code",
   "execution_count": null,
   "id": "ae7d4022",
   "metadata": {},
   "outputs": [],
   "source": []
  },
  {
   "cell_type": "code",
   "execution_count": null,
   "id": "afd555dd",
   "metadata": {},
   "outputs": [],
   "source": []
  },
  {
   "cell_type": "code",
   "execution_count": null,
   "id": "77f8a280",
   "metadata": {},
   "outputs": [],
   "source": []
  },
  {
   "cell_type": "code",
   "execution_count": null,
   "id": "dc2a13dc",
   "metadata": {},
   "outputs": [],
   "source": []
  },
  {
   "cell_type": "code",
   "execution_count": 4,
   "id": "d60d6d74",
   "metadata": {},
   "outputs": [],
   "source": [
    "browser.quit()"
   ]
  },
  {
   "cell_type": "code",
   "execution_count": null,
   "id": "e655efff",
   "metadata": {},
   "outputs": [],
   "source": []
  }
 ],
 "metadata": {
  "kernelspec": {
   "display_name": "PythonData",
   "language": "python",
   "name": "pythondata"
  },
  "language_info": {
   "codemirror_mode": {
    "name": "ipython",
    "version": 3
   },
   "file_extension": ".py",
   "mimetype": "text/x-python",
   "name": "python",
   "nbconvert_exporter": "python",
   "pygments_lexer": "ipython3",
   "version": "3.9.7"
  }
 },
 "nbformat": 4,
 "nbformat_minor": 5
}
