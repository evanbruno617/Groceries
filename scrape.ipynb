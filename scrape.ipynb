{
 "cells": [
  {
   "cell_type": "code",
   "execution_count": 1,
   "id": "3ecfa499",
   "metadata": {},
   "outputs": [],
   "source": [
    "# import dependencies \n",
    "import pandas as pd\n",
    "from splinter import Browser\n",
    "from bs4 import BeautifulSoup as soup\n",
    "import pandas as pd\n",
    "import datetime as dt\n",
    "from webdriver_manager.chrome import ChromeDriverManager\n",
    "import time\n",
    "import numpy as np\n",
    "import os\n",
    "import random"
   ]
  },
  {
   "cell_type": "code",
   "execution_count": 31,
   "id": "f40d993e",
   "metadata": {},
   "outputs": [
    {
     "name": "stderr",
     "output_type": "stream",
     "text": [
      "\n",
      "\n",
      "====== WebDriver manager ======\n",
      "Current google-chrome version is 104.0.5112\n",
      "Get LATEST chromedriver version for 104.0.5112 google-chrome\n",
      "Trying to download new driver from https://chromedriver.storage.googleapis.com/104.0.5112.79/chromedriver_mac64.zip\n",
      "Driver has been saved in cache [/Users/evanbruno/.wdm/drivers/chromedriver/mac64/104.0.5112.79]\n"
     ]
    }
   ],
   "source": [
    "# open browser\n",
    "executable_path = {'executable_path': ChromeDriverManager().install()}\n",
    "browser = Browser('chrome', **executable_path, headless=False)"
   ]
  },
  {
   "cell_type": "code",
   "execution_count": 35,
   "id": "88b14ef4",
   "metadata": {},
   "outputs": [],
   "source": [
    "url = \"https://www.costco.com/grocery-household.html\"\n",
    "browser.visit(url)"
   ]
  },
  {
   "cell_type": "code",
   "execution_count": 36,
   "id": "96f41eb6",
   "metadata": {},
   "outputs": [],
   "source": [
    "html = browser.html\n",
    "test = soup(html, 'html.parser')"
   ]
  },
  {
   "cell_type": "code",
   "execution_count": 37,
   "id": "6f2876ff",
   "metadata": {},
   "outputs": [],
   "source": [
    "cat = {}\n",
    "href = []\n",
    "for i in range(2, 5):\n",
    "    # for t in test.find_all(class_=\"row gutter\")[i].find_all(class_=\"h5-style-guide eco-ftr-6across-title\")\n",
    "    \n",
    "    for i in test.find_all(class_=\"row gutter\")[2].find_all(\"a\"):\n",
    "        href.append(i.get(\"href\"))"
   ]
  },
  {
   "cell_type": "code",
   "execution_count": 38,
   "id": "bc4f9bdc",
   "metadata": {},
   "outputs": [
    {
     "data": {
      "text/plain": [
       "['/health-beauty.html',\n",
       " '/kirkland-signature-groceries.html',\n",
       " '/paper-products-food-storage.html',\n",
       " '/laundry-supplies.html',\n",
       " '/household-cleaning.html',\n",
       " '/coffee-sweeteners.html',\n",
       " '/health-beauty.html',\n",
       " '/kirkland-signature-groceries.html',\n",
       " '/paper-products-food-storage.html',\n",
       " '/laundry-supplies.html',\n",
       " '/household-cleaning.html',\n",
       " '/coffee-sweeteners.html',\n",
       " '/health-beauty.html',\n",
       " '/kirkland-signature-groceries.html',\n",
       " '/paper-products-food-storage.html',\n",
       " '/laundry-supplies.html',\n",
       " '/household-cleaning.html',\n",
       " '/coffee-sweeteners.html']"
      ]
     },
     "execution_count": 38,
     "metadata": {},
     "output_type": "execute_result"
    }
   ],
   "source": [
    "href"
   ]
  },
  {
   "cell_type": "code",
   "execution_count": 26,
   "id": "c764fba5",
   "metadata": {},
   "outputs": [
    {
     "data": {
      "text/plain": [
       "<a class=\"external\" href=\"/kirkland-signature-groceries.html\" style=\"text-decoration-color: #333333;\">\n",
       "<span class=\"eco-imgWrapGrocery eco-cat-img\"><img alt=\"\" class=\"img-responsive btn-block\" src=\"https://mobilecontent.costco.com/live/resource/img/grocery/grocery-6feature-trash-bag.png\"/></span>\n",
       "<div class=\"h5-style-guide eco-ftr-6across-title\">Kirkland Signature Grocery</div>\n",
       "<div style=\"text-align: center; font-size: 0.9em; color: #333; line-height: 0.8em;\"></div>\n",
       "</a>"
      ]
     },
     "execution_count": 26,
     "metadata": {},
     "output_type": "execute_result"
    }
   ],
   "source": [
    "test.find_all(class_=\"row gutter\")[2].find_all(\"a\")[1]"
   ]
  },
  {
   "cell_type": "code",
   "execution_count": 39,
   "id": "74432c71",
   "metadata": {},
   "outputs": [],
   "source": [
    "cat = test.find_all(class_=\"row gutter\")[2].find(\"a\").get(\"href\")"
   ]
  },
  {
   "cell_type": "code",
   "execution_count": 42,
   "id": "c494ddc6",
   "metadata": {},
   "outputs": [],
   "source": [
    "new_url = 'https://www.costco.com'"
   ]
  },
  {
   "cell_type": "code",
   "execution_count": 44,
   "id": "8ab669ff",
   "metadata": {},
   "outputs": [],
   "source": [
    "html = browser.html\n",
    "test = soup(html, 'html.parser')"
   ]
  },
  {
   "cell_type": "code",
   "execution_count": 58,
   "id": "8c8c840b",
   "metadata": {},
   "outputs": [],
   "source": [
    "cats = []\n",
    "for cat in test.find(class_=\"related_categories_list\").find_all(class_=\"row\")[1].find_all(\"a\"):\n",
    "    cats.append(cat.get(\"href\"))"
   ]
  },
  {
   "cell_type": "code",
   "execution_count": 60,
   "id": "6c9a2117",
   "metadata": {},
   "outputs": [
    {
     "data": {
      "text/plain": [
       "['/vitamins-herbals-dietary-supplements.html',\n",
       " '/non-prescription-remedies.html',\n",
       " '/personal-care.html',\n",
       " '/diet-nutrition.html',\n",
       " '/home-health-care.html',\n",
       " '/massage-relaxation.html',\n",
       " '/reading-glasses.html',\n",
       " '/health-beauty-spa-gifts.html',\n",
       " '/aids-for-independent-living.html',\n",
       " '/immunizations.html',\n",
       " '/optical.html',\n",
       " '/hearing-aid-center.html']"
      ]
     },
     "execution_count": 60,
     "metadata": {},
     "output_type": "execute_result"
    }
   ],
   "source": [
    "cats"
   ]
  },
  {
   "cell_type": "code",
   "execution_count": 43,
   "id": "78b2dd95",
   "metadata": {},
   "outputs": [],
   "source": [
    "browser.visit(f\"{new_url}{cat}\")"
   ]
  },
  {
   "cell_type": "code",
   "execution_count": 62,
   "id": "f7024c4b",
   "metadata": {},
   "outputs": [],
   "source": [
    "cats = '/vitamins-herbals-dietary-supplements.html'"
   ]
  },
  {
   "cell_type": "code",
   "execution_count": 64,
   "id": "cdab9efc",
   "metadata": {},
   "outputs": [],
   "source": [
    "browser.visit(f\"{new_url}{cats}\")"
   ]
  },
  {
   "cell_type": "code",
   "execution_count": 66,
   "id": "ed3c4429",
   "metadata": {},
   "outputs": [
    {
     "data": {
      "text/plain": [
       "['https://www.costco.com/adult-multi-letter-vitamins.html',\n",
       " 'https://www.costco.com/all-vitamins-supplements.html',\n",
       " 'https://www.costco.com/calcium-minerals.html',\n",
       " 'https://www.costco.com/childrens-multi-letter-vitamins.html',\n",
       " 'https://www.costco.com/coq10-enzyme.html',\n",
       " 'https://www.costco.com/dietary-supplements.html',\n",
       " 'https://www.costco.com/energy.html',\n",
       " 'https://www.costco.com/fish-oil-omega-3.html',\n",
       " 'https://www.costco.com/glucosamine-joint-supplements.html',\n",
       " 'https://www.costco.com/herbal-supplements.html',\n",
       " 'https://www.costco.com/immune-support.html',\n",
       " 'https://www.costco.com/probiotics.html',\n",
       " 'https://www.costco.com/weight-loss-supplements.html']"
      ]
     },
     "execution_count": 66,
     "metadata": {},
     "output_type": "execute_result"
    }
   ],
   "source": [
    "html = browser.html\n",
    "test = soup(html, 'html.parser')\n",
    "\n",
    "cats = []\n",
    "for cat in test.find(class_=\"categoryclist_v2\").find_all(class_=\"row\")[1].find_all(\"a\"):\n",
    "    cats.append(cat.get(\"href\"))\n",
    "cats"
   ]
  },
  {
   "cell_type": "code",
   "execution_count": 68,
   "id": "f54c3340",
   "metadata": {},
   "outputs": [],
   "source": [
    "cats2 = \"https://www.costco.com/adult-multi-letter-vitamins.html\""
   ]
  },
  {
   "cell_type": "code",
   "execution_count": 143,
   "id": "c02e2122",
   "metadata": {},
   "outputs": [],
   "source": [
    "browser.visit(f\"{cats2}\")"
   ]
  },
  {
   "cell_type": "code",
   "execution_count": 146,
   "id": "162c70d0",
   "metadata": {},
   "outputs": [],
   "source": [
    "html = browser.html\n",
    "test = soup(html, 'html.parser')"
   ]
  },
  {
   "cell_type": "code",
   "execution_count": 157,
   "id": "06751084",
   "metadata": {},
   "outputs": [
    {
     "data": {
      "text/plain": [
       "['https://www.costco.com/zipfizz-healthy-energy-drink-mix%2c-30-tubes.product.100018793.html',\n",
       " 'https://www.costco.com/zipfizz-healthy-energy-drink-mix%2c-30-tubes.product.100018793.html',\n",
       " 'https://www.costco.com/terra-kai-usda-organic-juce-super-greens-fruit-and-veggie-powder%2c-13.23-ounces.product.100751321.html',\n",
       " 'https://www.costco.com/terra-kai-usda-organic-juce-super-greens-fruit-and-veggie-powder%2c-13.23-ounces.product.100751321.html',\n",
       " 'https://www.costco.com/ecodrink-complete-multivitamin-drink-mix%2c-30-packets.product.100138054.html',\n",
       " 'https://www.costco.com/ecodrink-complete-multivitamin-drink-mix%2c-30-packets.product.100138054.html',\n",
       " 'https://www.costco.com/terra-kai-usda-organic-juce-super-fruit-%2526-veggie-powder%2c-12.2-ounces.product.100338967.html',\n",
       " 'https://www.costco.com/terra-kai-usda-organic-juce-super-fruit-%2526-veggie-powder%2c-12.2-ounces.product.100338967.html',\n",
       " 'https://www.costco.com/nature-made-super-c-with-vitamin-d3-and-zinc%2c-200-tablets.product.100678859.html',\n",
       " 'https://www.costco.com/nature-made-super-c-with-vitamin-d3-and-zinc%2c-200-tablets.product.100678859.html',\n",
       " 'https://www.costco.com/nature-made-extra-strength-vitamin-d3-125-mcg%2c-220-softgels.product.100470245.html',\n",
       " 'https://www.costco.com/nature-made-extra-strength-vitamin-d3-125-mcg%2c-220-softgels.product.100470245.html',\n",
       " 'https://www.costco.com/zipfizz-healthy-energy-drink-mix%2c-variety-pack%2c-30-tubes.product.100393793.html',\n",
       " 'https://www.costco.com/zipfizz-healthy-energy-drink-mix%2c-variety-pack%2c-30-tubes.product.100393793.html',\n",
       " 'https://www.costco.com/nature-made-extra-strength-vitamin-d3-125-mcg%2c-150-gummies.product.100653034.html',\n",
       " 'https://www.costco.com/nature-made-extra-strength-vitamin-d3-125-mcg%2c-150-gummies.product.100653034.html',\n",
       " 'https://www.costco.com/slo-niacin-500-mg.%2c-175-tablets.product.100071518.html',\n",
       " 'https://www.costco.com/slo-niacin-500-mg.%2c-175-tablets.product.100071518.html',\n",
       " 'https://www.costco.com/natrol-juicefestiv-daily-fruit-%2526-veggie%2c-240-capsules.product.11754668.html',\n",
       " 'https://www.costco.com/natrol-juicefestiv-daily-fruit-%2526-veggie%2c-240-capsules.product.11754668.html',\n",
       " 'https://www.costco.com/emergen-c-vitamin-c-1%2c000-mg.-variety-pack-drink-mix%2c-90-packets.product.11614310.html',\n",
       " 'https://www.costco.com/emergen-c-vitamin-c-1%2c000-mg.-variety-pack-drink-mix%2c-90-packets.product.11614310.html',\n",
       " 'https://www.costco.com/centrum-silver-adults-50%2b-multivitamin%2c-325-tablets.product.100328995.html',\n",
       " 'https://www.costco.com/centrum-silver-adults-50%2b-multivitamin%2c-325-tablets.product.100328995.html',\n",
       " 'https://www.costco.com/centrum-adults-multivitamin%2c-425-tablets.product.100034177.html',\n",
       " 'https://www.costco.com/centrum-adults-multivitamin%2c-425-tablets.product.100034177.html',\n",
       " 'https://www.costco.com/centrum-silver-women-50%2b%2c-275-tablets.product.100500584.html',\n",
       " 'https://www.costco.com/centrum-silver-women-50%2b%2c-275-tablets.product.100500584.html',\n",
       " 'https://www.costco.com/centrum-silver-men-50%2b%2c-275-tablets.product.100500603.html',\n",
       " 'https://www.costco.com/centrum-silver-men-50%2b%2c-275-tablets.product.100500603.html',\n",
       " 'https://www.costco.com/vitafusion-vitamin-d%2526%238323-75-mcg%2c-210-adult-gummies.product.100353591.html',\n",
       " 'https://www.costco.com/vitafusion-vitamin-d%2526%238323-75-mcg%2c-210-adult-gummies.product.100353591.html',\n",
       " 'https://www.costco.com/kirkland-signature-vitamin-c-250-mg.%2c-360-adult-gummies.product.100309168.html',\n",
       " 'https://www.costco.com/kirkland-signature-vitamin-c-250-mg.%2c-360-adult-gummies.product.100309168.html',\n",
       " 'https://www.costco.com/natural-vitality-calm-magnesium-citrate-powder%2c-20-ounces.product.100485804.html',\n",
       " 'https://www.costco.com/natural-vitality-calm-magnesium-citrate-powder%2c-20-ounces.product.100485804.html',\n",
       " \"https://www.costco.com/smartypants-women's-formula-multivitamin%2c-240-adult-gummies.product.100328923.html\",\n",
       " \"https://www.costco.com/smartypants-women's-formula-multivitamin%2c-240-adult-gummies.product.100328923.html\",\n",
       " 'https://www.costco.com/nature-made-vitamin-d3-25-mcg.%2c-650-softgels.product.100214136.html',\n",
       " 'https://www.costco.com/nature-made-vitamin-d3-25-mcg.%2c-650-softgels.product.100214136.html',\n",
       " \"https://www.costco.com/one-a-day-women's-multivitamin%2c-300-tablets.product.100143565.html\",\n",
       " \"https://www.costco.com/one-a-day-women's-multivitamin%2c-300-tablets.product.100143565.html\",\n",
       " 'https://www.costco.com/ocuvite-adult-50%2b%2c-150-soft-gels.product.100056608.html',\n",
       " 'https://www.costco.com/ocuvite-adult-50%2b%2c-150-soft-gels.product.100056608.html',\n",
       " 'https://www.costco.com/nature-made-prenatal-gummies%2c-120-gummies.product.100844427.html',\n",
       " 'https://www.costco.com/nature-made-prenatal-gummies%2c-120-gummies.product.100844427.html',\n",
       " 'https://www.costco.com/adult-multi-letter-vitamins.html?keyword=warehouse+only',\n",
       " 'https://www.costco.com/vitafusion-multivites%2c-260-gummies.product.100489207.html',\n",
       " 'https://www.costco.com/vitafusion-multivites%2c-260-gummies.product.100489207.html',\n",
       " 'https://www.costco.com/adult-multi-letter-vitamins.html',\n",
       " 'https://www.costco.com/adult-multi-letter-vitamins.html?currentPage=2&pageSize=24',\n",
       " 'https://www.costco.com/adult-multi-letter-vitamins.html?currentPage=3&pageSize=24',\n",
       " 'https://www.costco.com/adult-multi-letter-vitamins.html?currentPage=2&pageSize=24',\n",
       " '#headerskip',\n",
       " '#headerskip']"
      ]
     },
     "execution_count": 157,
     "metadata": {},
     "output_type": "execute_result"
    }
   ],
   "source": [
    "html = browser.html\n",
    "test = soup(html, 'html.parser')\n",
    "\n",
    "cats = []\n",
    "for cat in test.find(class_=\"product-list list\").find_all(\"a\"):\n",
    "    cats.append(cat.get(\"href\"))\n",
    "cats"
   ]
  },
  {
   "cell_type": "code",
   "execution_count": 155,
   "id": "a20446fc",
   "metadata": {},
   "outputs": [
    {
     "data": {
      "text/plain": [
       "'https://www.costco.com/zipfizz-healthy-energy-drink-mix%2c-30-tubes.product.100018793.html'"
      ]
     },
     "execution_count": 155,
     "metadata": {},
     "output_type": "execute_result"
    }
   ],
   "source": [
    "test.find(class_=\"product-list list\").find(\"a\").get(\"href\")"
   ]
  },
  {
   "cell_type": "code",
   "execution_count": 158,
   "id": "e7e4f964",
   "metadata": {},
   "outputs": [],
   "source": [
    "hrefs = []\n",
    "for i in test.find(class_=\"product-list list\").find_all(class_=\"product-tile-set\"):\n",
    "    hrefs.append(i.find(\"a\").get(\"href\"))"
   ]
  },
  {
   "cell_type": "code",
   "execution_count": 159,
   "id": "913412e2",
   "metadata": {},
   "outputs": [
    {
     "data": {
      "text/plain": [
       "['https://www.costco.com/zipfizz-healthy-energy-drink-mix%2c-30-tubes.product.100018793.html',\n",
       " 'https://www.costco.com/terra-kai-usda-organic-juce-super-greens-fruit-and-veggie-powder%2c-13.23-ounces.product.100751321.html',\n",
       " 'https://www.costco.com/ecodrink-complete-multivitamin-drink-mix%2c-30-packets.product.100138054.html',\n",
       " 'https://www.costco.com/terra-kai-usda-organic-juce-super-fruit-%2526-veggie-powder%2c-12.2-ounces.product.100338967.html',\n",
       " 'https://www.costco.com/nature-made-super-c-with-vitamin-d3-and-zinc%2c-200-tablets.product.100678859.html',\n",
       " 'https://www.costco.com/nature-made-extra-strength-vitamin-d3-125-mcg%2c-220-softgels.product.100470245.html',\n",
       " 'https://www.costco.com/zipfizz-healthy-energy-drink-mix%2c-variety-pack%2c-30-tubes.product.100393793.html',\n",
       " 'https://www.costco.com/nature-made-extra-strength-vitamin-d3-125-mcg%2c-150-gummies.product.100653034.html',\n",
       " 'https://www.costco.com/slo-niacin-500-mg.%2c-175-tablets.product.100071518.html',\n",
       " 'https://www.costco.com/natrol-juicefestiv-daily-fruit-%2526-veggie%2c-240-capsules.product.11754668.html',\n",
       " 'https://www.costco.com/emergen-c-vitamin-c-1%2c000-mg.-variety-pack-drink-mix%2c-90-packets.product.11614310.html',\n",
       " 'https://www.costco.com/centrum-silver-adults-50%2b-multivitamin%2c-325-tablets.product.100328995.html',\n",
       " 'https://www.costco.com/centrum-adults-multivitamin%2c-425-tablets.product.100034177.html',\n",
       " 'https://www.costco.com/centrum-silver-women-50%2b%2c-275-tablets.product.100500584.html',\n",
       " 'https://www.costco.com/centrum-silver-men-50%2b%2c-275-tablets.product.100500603.html',\n",
       " 'https://www.costco.com/vitafusion-vitamin-d%2526%238323-75-mcg%2c-210-adult-gummies.product.100353591.html',\n",
       " 'https://www.costco.com/kirkland-signature-vitamin-c-250-mg.%2c-360-adult-gummies.product.100309168.html',\n",
       " 'https://www.costco.com/natural-vitality-calm-magnesium-citrate-powder%2c-20-ounces.product.100485804.html',\n",
       " \"https://www.costco.com/smartypants-women's-formula-multivitamin%2c-240-adult-gummies.product.100328923.html\",\n",
       " 'https://www.costco.com/nature-made-vitamin-d3-25-mcg.%2c-650-softgels.product.100214136.html',\n",
       " \"https://www.costco.com/one-a-day-women's-multivitamin%2c-300-tablets.product.100143565.html\",\n",
       " 'https://www.costco.com/ocuvite-adult-50%2b%2c-150-soft-gels.product.100056608.html',\n",
       " 'https://www.costco.com/nature-made-prenatal-gummies%2c-120-gummies.product.100844427.html',\n",
       " 'https://www.costco.com/adult-multi-letter-vitamins.html?keyword=warehouse+only']"
      ]
     },
     "execution_count": 159,
     "metadata": {},
     "output_type": "execute_result"
    }
   ],
   "source": [
    "hrefs"
   ]
  },
  {
   "cell_type": "code",
   "execution_count": 129,
   "id": "69a780f3",
   "metadata": {},
   "outputs": [],
   "source": [
    "browser.visit(hrefs[0])"
   ]
  },
  {
   "cell_type": "code",
   "execution_count": 162,
   "id": "91b9979b",
   "metadata": {},
   "outputs": [],
   "source": [
    "html = browser.html\n",
    "test = soup(html, 'html.parser')"
   ]
  },
  {
   "cell_type": "code",
   "execution_count": 165,
   "id": "f6b47fe3",
   "metadata": {},
   "outputs": [
    {
     "data": {
      "text/plain": [
       "'20.99'"
      ]
     },
     "execution_count": 165,
     "metadata": {},
     "output_type": "execute_result"
    }
   ],
   "source": [
    "test.find(id=\"pull-right-price\").find(class_=\"value\").get_text()"
   ]
  },
  {
   "cell_type": "code",
   "execution_count": 134,
   "id": "ab1e41e4",
   "metadata": {},
   "outputs": [],
   "source": [
    "name = test.find(class_=\"product-h1-container-v2 visible-lg-block visible-xl-block\").find(\"h1\").get_text()"
   ]
  },
  {
   "cell_type": "code",
   "execution_count": null,
   "id": "7f5d3029",
   "metadata": {},
   "outputs": [],
   "source": [
    "name_dict = {}"
   ]
  },
  {
   "cell_type": "code",
   "execution_count": 166,
   "id": "04cd149b",
   "metadata": {},
   "outputs": [
    {
     "ename": "AttributeError",
     "evalue": "'NoneType' object has no attribute 'find'",
     "output_type": "error",
     "traceback": [
      "\u001b[0;31m---------------------------------------------------------------------------\u001b[0m",
      "\u001b[0;31mAttributeError\u001b[0m                            Traceback (most recent call last)",
      "Input \u001b[0;32mIn [166]\u001b[0m, in \u001b[0;36m<cell line: 1>\u001b[0;34m()\u001b[0m\n\u001b[1;32m      4\u001b[0m html \u001b[38;5;241m=\u001b[39m browser\u001b[38;5;241m.\u001b[39mhtml\n\u001b[1;32m      5\u001b[0m test \u001b[38;5;241m=\u001b[39m soup(html, \u001b[38;5;124m'\u001b[39m\u001b[38;5;124mhtml.parser\u001b[39m\u001b[38;5;124m'\u001b[39m)\n\u001b[0;32m----> 7\u001b[0m name \u001b[38;5;241m=\u001b[39m \u001b[43mtest\u001b[49m\u001b[38;5;241;43m.\u001b[39;49m\u001b[43mfind\u001b[49m\u001b[43m(\u001b[49m\u001b[43mclass_\u001b[49m\u001b[38;5;241;43m=\u001b[39;49m\u001b[38;5;124;43m\"\u001b[39;49m\u001b[38;5;124;43mproduct-h1-container-v2 visible-lg-block visible-xl-block\u001b[39;49m\u001b[38;5;124;43m\"\u001b[39;49m\u001b[43m)\u001b[49m\u001b[38;5;241;43m.\u001b[39;49m\u001b[43mfind\u001b[49m(\u001b[38;5;124m\"\u001b[39m\u001b[38;5;124mh1\u001b[39m\u001b[38;5;124m\"\u001b[39m)\u001b[38;5;241m.\u001b[39mget_text()\n\u001b[1;32m      9\u001b[0m info \u001b[38;5;241m=\u001b[39m {}\n\u001b[1;32m     10\u001b[0m \u001b[38;5;28;01mfor\u001b[39;00m i \u001b[38;5;129;01min\u001b[39;00m test\u001b[38;5;241m.\u001b[39mfind_all(class_\u001b[38;5;241m=\u001b[39m\u001b[38;5;124m\"\u001b[39m\u001b[38;5;124mproduct-info-description\u001b[39m\u001b[38;5;124m\"\u001b[39m)[\u001b[38;5;241m1\u001b[39m]\u001b[38;5;241m.\u001b[39mfind_all(class_\u001b[38;5;241m=\u001b[39m\u001b[38;5;124m\"\u001b[39m\u001b[38;5;124mrow\u001b[39m\u001b[38;5;124m\"\u001b[39m):\n",
      "\u001b[0;31mAttributeError\u001b[0m: 'NoneType' object has no attribute 'find'"
     ]
    }
   ],
   "source": [
    "for t in hrefs:\n",
    "    browser.visit(t)\n",
    "\n",
    "    html = browser.html\n",
    "    test = soup(html, 'html.parser')\n",
    "\n",
    "    name = test.find(class_=\"product-h1-container-v2 visible-lg-block visible-xl-block\").find(\"h1\").get_text()\n",
    "\n",
    "    info = {}\n",
    "    for i in test.find_all(class_=\"product-info-description\")[1].find_all(class_=\"row\"):\n",
    "        info[i.find(class_=\"spec-name col-xs-6 col-md-5 col-lg-4\").get_text()] = i.find(class_=\"col-xs-6 col-md-7 col-lg-8\").get_text()\n",
    "        info[\"Price\"] = test.find(id=\"pull-right-price\").find(class_=\"value\").get_text()\n",
    "    \n",
    "    name_dict[name] = info"
   ]
  },
  {
   "cell_type": "code",
   "execution_count": null,
   "id": "5dded03d",
   "metadata": {},
   "outputs": [],
   "source": [
    "pd.DataFrame(name_dict)"
   ]
  },
  {
   "cell_type": "code",
   "execution_count": 30,
   "id": "f62e7970",
   "metadata": {},
   "outputs": [],
   "source": [
    "browser.quit()"
   ]
  },
  {
   "cell_type": "code",
   "execution_count": null,
   "id": "729666be",
   "metadata": {},
   "outputs": [],
   "source": []
  }
 ],
 "metadata": {
  "kernelspec": {
   "display_name": "PythonData",
   "language": "python",
   "name": "pythondata"
  },
  "language_info": {
   "codemirror_mode": {
    "name": "ipython",
    "version": 3
   },
   "file_extension": ".py",
   "mimetype": "text/x-python",
   "name": "python",
   "nbconvert_exporter": "python",
   "pygments_lexer": "ipython3",
   "version": "3.9.7"
  }
 },
 "nbformat": 4,
 "nbformat_minor": 5
}
