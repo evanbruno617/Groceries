{
 "cells": [
  {
   "cell_type": "code",
   "execution_count": 73,
   "id": "a1218fd5",
   "metadata": {},
   "outputs": [],
   "source": [
    "# import dependencies \n",
    "import pandas as pd\n",
    "from splinter import Browser\n",
    "from bs4 import BeautifulSoup as soup\n",
    "import pandas as pd\n",
    "import datetime as dt\n",
    "from webdriver_manager.chrome import ChromeDriverManager\n",
    "import time\n",
    "import numpy as np\n",
    "import os\n",
    "import random"
   ]
  },
  {
   "cell_type": "code",
   "execution_count": 74,
   "id": "b29bae9a",
   "metadata": {},
   "outputs": [
    {
     "name": "stderr",
     "output_type": "stream",
     "text": [
      "\n",
      "\n",
      "====== WebDriver manager ======\n",
      "Current google-chrome version is 104.0.5112\n",
      "Get LATEST chromedriver version for 104.0.5112 google-chrome\n",
      "Driver [/Users/evanbruno/.wdm/drivers/chromedriver/mac64/104.0.5112.79/chromedriver] found in cache\n"
     ]
    }
   ],
   "source": [
    "# open browser\n",
    "executable_path = {'executable_path': ChromeDriverManager().install()}\n",
    "browser = Browser('chrome', **executable_path, headless=False)"
   ]
  },
  {
   "cell_type": "code",
   "execution_count": 76,
   "id": "0c9721dc",
   "metadata": {},
   "outputs": [],
   "source": [
    "url = \"https://www.costco.com/grocery-household.html\"\n",
    "browser.visit(url)"
   ]
  },
  {
   "cell_type": "code",
   "execution_count": 77,
   "id": "566d7458",
   "metadata": {},
   "outputs": [],
   "source": [
    "html = browser.html\n",
    "test = soup(html, 'html.parser')"
   ]
  },
  {
   "cell_type": "code",
   "execution_count": 78,
   "id": "b172a2a1",
   "metadata": {},
   "outputs": [],
   "source": [
    "cat = {}\n",
    "href = []\n",
    "for i in range(2, 5):\n",
    "    # for t in test.find_all(class_=\"row gutter\")[i].find_all(class_=\"h5-style-guide eco-ftr-6across-title\")\n",
    "    \n",
    "    for i in test.find_all(class_=\"row gutter\")[2].find_all(\"a\"):\n",
    "        href.append(i.get(\"href\"))"
   ]
  },
  {
   "cell_type": "code",
   "execution_count": 79,
   "id": "e2b6b748",
   "metadata": {},
   "outputs": [
    {
     "data": {
      "text/plain": [
       "['/health-beauty.html',\n",
       " '/kirkland-signature-groceries.html',\n",
       " '/paper-products-food-storage.html',\n",
       " '/laundry-supplies.html',\n",
       " '/household-cleaning.html',\n",
       " '/coffee-sweeteners.html',\n",
       " '/health-beauty.html',\n",
       " '/kirkland-signature-groceries.html',\n",
       " '/paper-products-food-storage.html',\n",
       " '/laundry-supplies.html',\n",
       " '/household-cleaning.html',\n",
       " '/coffee-sweeteners.html',\n",
       " '/health-beauty.html',\n",
       " '/kirkland-signature-groceries.html',\n",
       " '/paper-products-food-storage.html',\n",
       " '/laundry-supplies.html',\n",
       " '/household-cleaning.html',\n",
       " '/coffee-sweeteners.html']"
      ]
     },
     "execution_count": 79,
     "metadata": {},
     "output_type": "execute_result"
    }
   ],
   "source": [
    "href"
   ]
  },
  {
   "cell_type": "code",
   "execution_count": 80,
   "id": "92920641",
   "metadata": {},
   "outputs": [
    {
     "data": {
      "text/plain": [
       "<a class=\"external\" href=\"/kirkland-signature-groceries.html\" style=\"text-decoration-color: #333333;\">\n",
       "<span class=\"eco-imgWrapGrocery eco-cat-img\"><img alt=\"\" class=\"img-responsive btn-block\" src=\"https://mobilecontent.costco.com/live/resource/img/grocery/grocery-6feature-trash-bag.png\"/></span>\n",
       "<div class=\"h5-style-guide eco-ftr-6across-title\">Kirkland Signature Grocery</div>\n",
       "<div style=\"text-align: center; font-size: 0.9em; color: #333; line-height: 0.8em;\"></div>\n",
       "</a>"
      ]
     },
     "execution_count": 80,
     "metadata": {},
     "output_type": "execute_result"
    }
   ],
   "source": [
    "test.find_all(class_=\"row gutter\")[2].find_all(\"a\")[1]"
   ]
  },
  {
   "cell_type": "code",
   "execution_count": 81,
   "id": "aac19b19",
   "metadata": {},
   "outputs": [],
   "source": [
    "cat = test.find_all(class_=\"row gutter\")[2].find(\"a\").get(\"href\")"
   ]
  },
  {
   "cell_type": "code",
   "execution_count": 82,
   "id": "fffa1bf2",
   "metadata": {},
   "outputs": [],
   "source": [
    "new_url = 'https://www.costco.com'"
   ]
  },
  {
   "cell_type": "code",
   "execution_count": 83,
   "id": "b7cdffb0",
   "metadata": {},
   "outputs": [],
   "source": [
    "browser.visit(f\"{new_url}{cat}\")"
   ]
  },
  {
   "cell_type": "code",
   "execution_count": 84,
   "id": "7b5c5efe",
   "metadata": {},
   "outputs": [],
   "source": [
    "html = browser.html\n",
    "test = soup(html, 'html.parser')"
   ]
  },
  {
   "cell_type": "code",
   "execution_count": 85,
   "id": "440c2bd8",
   "metadata": {},
   "outputs": [],
   "source": [
    "cats = []\n",
    "for cat in test.find(class_=\"related_categories_list\").find_all(class_=\"row\")[1].find_all(\"a\"):\n",
    "    cats.append(cat.get(\"href\"))"
   ]
  },
  {
   "cell_type": "code",
   "execution_count": 86,
   "id": "24766ff8",
   "metadata": {},
   "outputs": [
    {
     "data": {
      "text/plain": [
       "['/vitamins-herbals-dietary-supplements.html',\n",
       " '/non-prescription-remedies.html',\n",
       " '/personal-care.html',\n",
       " '/diet-nutrition.html',\n",
       " '/home-health-care.html',\n",
       " '/massage-relaxation.html',\n",
       " '/reading-glasses.html',\n",
       " '/health-beauty-spa-gifts.html',\n",
       " '/aids-for-independent-living.html',\n",
       " '/immunizations.html',\n",
       " '/optical.html',\n",
       " '/hearing-aid-center.html']"
      ]
     },
     "execution_count": 86,
     "metadata": {},
     "output_type": "execute_result"
    }
   ],
   "source": [
    "cats"
   ]
  },
  {
   "cell_type": "code",
   "execution_count": 87,
   "id": "5329d4bb",
   "metadata": {},
   "outputs": [],
   "source": [
    "cats = '/vitamins-herbals-dietary-supplements.html'"
   ]
  },
  {
   "cell_type": "code",
   "execution_count": 88,
   "id": "57015741",
   "metadata": {},
   "outputs": [],
   "source": [
    "browser.visit(f\"{new_url}{cats}\")"
   ]
  },
  {
   "cell_type": "code",
   "execution_count": 89,
   "id": "32070e2f",
   "metadata": {},
   "outputs": [
    {
     "data": {
      "text/plain": [
       "['https://www.costco.com/adult-multi-letter-vitamins.html',\n",
       " 'https://www.costco.com/all-vitamins-supplements.html',\n",
       " 'https://www.costco.com/calcium-minerals.html',\n",
       " 'https://www.costco.com/childrens-multi-letter-vitamins.html',\n",
       " 'https://www.costco.com/coq10-enzyme.html',\n",
       " 'https://www.costco.com/dietary-supplements.html',\n",
       " 'https://www.costco.com/energy.html',\n",
       " 'https://www.costco.com/fish-oil-omega-3.html',\n",
       " 'https://www.costco.com/glucosamine-joint-supplements.html',\n",
       " 'https://www.costco.com/herbal-supplements.html',\n",
       " 'https://www.costco.com/immune-support.html',\n",
       " 'https://www.costco.com/probiotics.html',\n",
       " 'https://www.costco.com/weight-loss-supplements.html']"
      ]
     },
     "execution_count": 89,
     "metadata": {},
     "output_type": "execute_result"
    }
   ],
   "source": [
    "html = browser.html\n",
    "test = soup(html, 'html.parser')\n",
    "\n",
    "cats = []\n",
    "for cat in test.find(class_=\"categoryclist_v2\").find_all(class_=\"row\")[1].find_all(\"a\"):\n",
    "    cats.append(cat.get(\"href\"))\n",
    "cats"
   ]
  },
  {
   "cell_type": "code",
   "execution_count": 105,
   "id": "2abc52e1",
   "metadata": {},
   "outputs": [],
   "source": [
    "cats2 = \"https://www.costco.com/adult-multi-letter-vitamins.html\""
   ]
  },
  {
   "cell_type": "code",
   "execution_count": 154,
   "id": "e168a265",
   "metadata": {},
   "outputs": [],
   "source": [
    "browser.visit(f\"{cats2}\")"
   ]
  },
  {
   "cell_type": "code",
   "execution_count": 155,
   "id": "4585e411",
   "metadata": {},
   "outputs": [],
   "source": [
    "html = browser.html\n",
    "test = soup(html, 'html.parser')"
   ]
  },
  {
   "cell_type": "code",
   "execution_count": 138,
   "id": "621dd6bb",
   "metadata": {},
   "outputs": [
    {
     "name": "stdout",
     "output_type": "stream",
     "text": [
      "https://www.costco.com/adult-multi-letter-vitamins.html?keyword=warehouse+only\n"
     ]
    }
   ],
   "source": [
    "for i in test.find_all(class_=\"pills-section\"):\n",
    "    if i.find(\"a\") == None:\n",
    "        pass\n",
    "    else:\n",
    "        print(i.find(\"a\").get(\"href\"))"
   ]
  },
  {
   "cell_type": "code",
   "execution_count": 172,
   "id": "3bd0862e",
   "metadata": {},
   "outputs": [
    {
     "data": {
      "text/plain": [
       "[]"
      ]
     },
     "execution_count": 172,
     "metadata": {},
     "output_type": "execute_result"
    }
   ],
   "source": [
    "test.find_all(class_=\"product-tile-set\")[20].find_all(id=\"product-image-url\")"
   ]
  },
  {
   "cell_type": "code",
   "execution_count": null,
   "id": "99b266cf",
   "metadata": {},
   "outputs": [],
   "source": []
  },
  {
   "cell_type": "code",
   "execution_count": 46,
   "id": "767e8e91",
   "metadata": {},
   "outputs": [],
   "source": [
    "browser.visit(hrefs[0])"
   ]
  },
  {
   "cell_type": "code",
   "execution_count": 47,
   "id": "7af3a18a",
   "metadata": {},
   "outputs": [],
   "source": [
    "html = browser.html\n",
    "test = soup(html, 'html.parser')"
   ]
  },
  {
   "cell_type": "code",
   "execution_count": 48,
   "id": "b544ff8d",
   "metadata": {},
   "outputs": [
    {
     "data": {
      "text/plain": [
       "'22.99'"
      ]
     },
     "execution_count": 48,
     "metadata": {},
     "output_type": "execute_result"
    }
   ],
   "source": [
    "test.find(id=\"pills-section\").find(class_=\"value\").get_text()"
   ]
  },
  {
   "cell_type": "code",
   "execution_count": 179,
   "id": "86768960",
   "metadata": {},
   "outputs": [],
   "source": [
    "name_dict = {}"
   ]
  },
  {
   "cell_type": "code",
   "execution_count": 180,
   "id": "0334ec81",
   "metadata": {},
   "outputs": [],
   "source": [
    "\n",
    "test = soup(browser.html, 'html.parser')\n",
    "\n",
    "page_count = len(test.find(class_=\"paging col-xs-12\").find_all(class_=\"page\")) - 1\n",
    "\n",
    "\n",
    "hrefs = []\n",
    "for i in test.find_all(class_=\"product-image-url\"):\n",
    "    hrefs.append(i.get(\"href\"))\n",
    "    \n",
    "for t in hrefs:\n",
    "    browser.visit(t)\n",
    "\n",
    "    html = browser.html\n",
    "    test = soup(html, 'html.parser')\n",
    "\n",
    "    name = test.find(class_=\"product-h1-container-v2 visible-lg-block visible-xl-block\").find(\"h1\").get_text()\n",
    "\n",
    "    info = {}\n",
    "    for i in test.find_all(class_=\"product-info-description\")[1].find_all(class_=\"row\"):\n",
    "        info[i.find(class_=\"spec-name col-xs-6 col-md-5 col-lg-4\").get_text()] = i.find(class_=\"col-xs-6 col-md-7 col-lg-8\").get_text()\n",
    "        if test.find(class_=\"pills-section\").get_text() != '\\n\\n\\nWarehouse Only\\n\\n\\n':\n",
    "                info[\"Price\"] = test.find(id=\"pull-right-price\").find(class_=\"value\").get_text()\n",
    "\n",
    "    name_dict[name] = info\n",
    "\n",
    "browser.visit(cats2)\n",
    "\n",
    "test = soup(browser.html, 'html.parser')\n",
    "        \n",
    "for page in range(page_count):\n",
    "    test = soup(browser.html, 'html.parser')\n",
    "    time.sleep(2)\n",
    "    next_page = test.find(class_=\"paging col-xs-12\").find_all(class_=\"page\")[page + 1].find(\"a\").get(\"href\")\n",
    "    browser.visit(next_page)\n",
    "    \n",
    "    html = browser.html\n",
    "    test = soup(html, 'html.parser')\n",
    "    \n",
    "    hrefs = []\n",
    "    for i in test.find_all(class_=\"product-image-url\"):\n",
    "        hrefs.append(i.get(\"href\"))\n",
    "\n",
    "    for t in hrefs:\n",
    "        browser.visit(t)\n",
    "\n",
    "        html = browser.html\n",
    "        test = soup(html, 'html.parser')\n",
    "\n",
    "        name = test.find(class_=\"product-h1-container-v2 visible-lg-block visible-xl-block\").find(\"h1\").get_text()\n",
    "\n",
    "        info = {}\n",
    "        for i in test.find_all(class_=\"product-info-description\")[1].find_all(class_=\"row\"):\n",
    "            info[i.find(class_=\"spec-name col-xs-6 col-md-5 col-lg-4\").get_text()] = i.find(class_=\"col-xs-6 col-md-7 col-lg-8\").get_text()\n",
    "            if test.find(class_=\"pills-section\").get_text() != '\\n\\n\\nWarehouse Only\\n\\n\\n':\n",
    "                info[\"Price\"] = test.find(id=\"pull-right-price\").find(class_=\"value\").get_text()\n",
    "        name_dict[name] = info\n",
    "      \n",
    "    browser.visit(cats2)"
   ]
  },
  {
   "cell_type": "code",
   "execution_count": 178,
   "id": "3f839864",
   "metadata": {},
   "outputs": [],
   "source": [
    "test.find(class_=\"paging col-xs-12\")"
   ]
  },
  {
   "cell_type": "code",
   "execution_count": 153,
   "id": "19d3d1a6",
   "metadata": {},
   "outputs": [],
   "source": [
    "if test.find(class_=\"pills-section\").get_text() != '\\n\\n\\nWarehouse Only\\n\\n\\n':\n",
    "    print(\"True\")"
   ]
  },
  {
   "cell_type": "code",
   "execution_count": 141,
   "id": "aa3b4649",
   "metadata": {},
   "outputs": [
    {
     "data": {
      "text/plain": [
       "'\\n\\n\\nWarehouse Only\\n\\n\\n'"
      ]
     },
     "execution_count": 141,
     "metadata": {},
     "output_type": "execute_result"
    }
   ],
   "source": [
    "test.find(class_=\"pills-section\").get_text()"
   ]
  },
  {
   "cell_type": "code",
   "execution_count": 100,
   "id": "1a9ca069",
   "metadata": {},
   "outputs": [
    {
     "ename": "AttributeError",
     "evalue": "'NoneType' object has no attribute 'find'",
     "output_type": "error",
     "traceback": [
      "\u001b[0;31m---------------------------------------------------------------------------\u001b[0m",
      "\u001b[0;31mAttributeError\u001b[0m                            Traceback (most recent call last)",
      "Input \u001b[0;32mIn [100]\u001b[0m, in \u001b[0;36m<cell line: 1>\u001b[0;34m()\u001b[0m\n\u001b[0;32m----> 1\u001b[0m \u001b[38;5;28;01mif\u001b[39;00m \u001b[43mtest\u001b[49m\u001b[38;5;241;43m.\u001b[39;49m\u001b[43mfind\u001b[49m\u001b[43m(\u001b[49m\u001b[38;5;28;43mid\u001b[39;49m\u001b[38;5;241;43m=\u001b[39;49m\u001b[38;5;124;43m\"\u001b[39;49m\u001b[38;5;124;43mpull-right-price\u001b[39;49m\u001b[38;5;124;43m\"\u001b[39;49m\u001b[43m)\u001b[49m\u001b[38;5;241;43m.\u001b[39;49m\u001b[43mfind\u001b[49m(class_\u001b[38;5;241m=\u001b[39m\u001b[38;5;124m\"\u001b[39m\u001b[38;5;124mvalue\u001b[39m\u001b[38;5;124m\"\u001b[39m)\u001b[38;5;241m.\u001b[39mget_text() \u001b[38;5;241m==\u001b[39m np\u001b[38;5;241m.\u001b[39mnan:\n\u001b[1;32m      2\u001b[0m     \u001b[38;5;28mprint\u001b[39m(\u001b[38;5;28;01mTrue\u001b[39;00m)\n",
      "\u001b[0;31mAttributeError\u001b[0m: 'NoneType' object has no attribute 'find'"
     ]
    }
   ],
   "source": [
    "if test.find(id=\"pull-right-price\").find(class_=\"value\").get_text() == np.nan:\n",
    "    print(True)"
   ]
  },
  {
   "cell_type": "code",
   "execution_count": 71,
   "id": "47b8d3c8",
   "metadata": {},
   "outputs": [],
   "source": [
    "test.find(class_=\"paging col-xs-12\")"
   ]
  },
  {
   "cell_type": "code",
   "execution_count": 181,
   "id": "f13a76e4",
   "metadata": {},
   "outputs": [
    {
     "data": {
      "text/html": [
       "<div>\n",
       "<style scoped>\n",
       "    .dataframe tbody tr th:only-of-type {\n",
       "        vertical-align: middle;\n",
       "    }\n",
       "\n",
       "    .dataframe tbody tr th {\n",
       "        vertical-align: top;\n",
       "    }\n",
       "\n",
       "    .dataframe thead th {\n",
       "        text-align: right;\n",
       "    }\n",
       "</style>\n",
       "<table border=\"1\" class=\"dataframe\">\n",
       "  <thead>\n",
       "    <tr style=\"text-align: right;\">\n",
       "      <th></th>\n",
       "      <th>Zipfizz Healthy Energy Drink Mix, 30 Tubes</th>\n",
       "      <th>Nature Made Extra Strength Vitamin D3 125 mcg, 220 Softgels</th>\n",
       "      <th>EcoDrink Complete Multivitamin Drink Mix, 30 Packets</th>\n",
       "      <th>Terra Kai USDA Organic Juce Super Greens Fruit and Veggie Powder, 13.23 Ounces</th>\n",
       "      <th>Terra Kai USDA Organic Juce Super Fruit &amp; Veggie Powder, 12.2 Ounces</th>\n",
       "      <th>Nature Made Super C with Vitamin D3 and Zinc, 200 Tablets</th>\n",
       "      <th>Zipfizz Healthy Energy Drink Mix, Variety Pack, 30 Tubes</th>\n",
       "      <th>Emergen-C Vitamin C 1,000 mg. Variety Pack Drink Mix, 90 Packets</th>\n",
       "      <th>Centrum Silver Adults 50+ Multivitamin, 325 Tablets</th>\n",
       "      <th>Natrol JuiceFestiv Daily Fruit &amp; Veggie, 240 Capsules</th>\n",
       "      <th>...</th>\n",
       "      <th>trunature Ginkgo Biloba, 340 Softgels</th>\n",
       "      <th>Nature Made Super B-Complex, 460 Tablets</th>\n",
       "      <th>Nature Made Prenatal Multi + DHA, 150 Softgels</th>\n",
       "      <th>Nature's Lab One Daily Multivitamin, 120 Vegetarian Capsules</th>\n",
       "      <th>Kirkland Signature Extra Strength Energy Shot, 48 Bottles, 2 Ounces Each</th>\n",
       "      <th>PreserVision AREDS 2 Formula + Multivitamin, 180 Soft Gels</th>\n",
       "      <th>One A Day Women's 50+ Healthy Advantage Multivitamin, 300 Tablets</th>\n",
       "      <th>PreserVision AREDS 2 Formula, 210 Soft Gels</th>\n",
       "      <th>Kirkland Signature Quick Dissolve B-12 5000 mcg., 300 Tablets</th>\n",
       "      <th>One A Day Men's 50+ Healthy Advantage Multivitamin, 300 Tablets</th>\n",
       "    </tr>\n",
       "  </thead>\n",
       "  <tbody>\n",
       "    <tr>\n",
       "      <th>Brand</th>\n",
       "      <td>Zipfizz</td>\n",
       "      <td>Nature Made</td>\n",
       "      <td>EcoDrink</td>\n",
       "      <td>Terra Kai Organics</td>\n",
       "      <td>Terra Kai Organics</td>\n",
       "      <td>Nature Made</td>\n",
       "      <td>Zipfizz</td>\n",
       "      <td>Emergen-C</td>\n",
       "      <td>Centrum</td>\n",
       "      <td>Natrol</td>\n",
       "      <td>...</td>\n",
       "      <td>trunature</td>\n",
       "      <td>Nature Made</td>\n",
       "      <td>Nature Made</td>\n",
       "      <td>Nature's Lab</td>\n",
       "      <td>Kirkland Signature</td>\n",
       "      <td>Bausch + Lomb</td>\n",
       "      <td>One A Day</td>\n",
       "      <td>Bausch + Lomb</td>\n",
       "      <td>Kirkland Signature</td>\n",
       "      <td>One A Day</td>\n",
       "    </tr>\n",
       "    <tr>\n",
       "      <th>Price</th>\n",
       "      <td>22.99</td>\n",
       "      <td>18.99</td>\n",
       "      <td>22.99</td>\n",
       "      <td>23.99</td>\n",
       "      <td>23.99</td>\n",
       "      <td>14.99</td>\n",
       "      <td>22.99</td>\n",
       "      <td>26.99</td>\n",
       "      <td>24.99</td>\n",
       "      <td>19.49</td>\n",
       "      <td>...</td>\n",
       "      <td>17.99</td>\n",
       "      <td>22.99</td>\n",
       "      <td>24.99</td>\n",
       "      <td>24.99</td>\n",
       "      <td>43.99</td>\n",
       "      <td>39.99</td>\n",
       "      <td>20.99</td>\n",
       "      <td>39.99</td>\n",
       "      <td>21.99</td>\n",
       "      <td>20.99</td>\n",
       "    </tr>\n",
       "    <tr>\n",
       "      <th>Container Size</th>\n",
       "      <td>0.39 oz.</td>\n",
       "      <td>NaN</td>\n",
       "      <td>0.2 oz.</td>\n",
       "      <td>12.2 oz.</td>\n",
       "      <td>12.2 oz.</td>\n",
       "      <td>NaN</td>\n",
       "      <td>NaN</td>\n",
       "      <td>NaN</td>\n",
       "      <td>NaN</td>\n",
       "      <td>NaN</td>\n",
       "      <td>...</td>\n",
       "      <td>NaN</td>\n",
       "      <td>NaN</td>\n",
       "      <td>NaN</td>\n",
       "      <td>NaN</td>\n",
       "      <td>2 fl. oz.</td>\n",
       "      <td>NaN</td>\n",
       "      <td>NaN</td>\n",
       "      <td>NaN</td>\n",
       "      <td>NaN</td>\n",
       "      <td>NaN</td>\n",
       "    </tr>\n",
       "    <tr>\n",
       "      <th>Dietary Features</th>\n",
       "      <td>Sugar Free</td>\n",
       "      <td>Gluten Free</td>\n",
       "      <td>NaN</td>\n",
       "      <td>Vegan</td>\n",
       "      <td>Organic</td>\n",
       "      <td>NaN</td>\n",
       "      <td>Sugar Free</td>\n",
       "      <td>Vegetarian</td>\n",
       "      <td>Non GMO</td>\n",
       "      <td>NaN</td>\n",
       "      <td>...</td>\n",
       "      <td>NaN</td>\n",
       "      <td>Gluten Free</td>\n",
       "      <td>Gluten Free</td>\n",
       "      <td>Non GMO</td>\n",
       "      <td>Sugar Free</td>\n",
       "      <td>NaN</td>\n",
       "      <td>Gluten Free</td>\n",
       "      <td>NaN</td>\n",
       "      <td>Lactose Free</td>\n",
       "      <td>Gluten Free</td>\n",
       "    </tr>\n",
       "    <tr>\n",
       "      <th>Form</th>\n",
       "      <td>Powder</td>\n",
       "      <td>Softgel</td>\n",
       "      <td>Powder</td>\n",
       "      <td>Powder</td>\n",
       "      <td>Powder</td>\n",
       "      <td>Tablet</td>\n",
       "      <td>Powder</td>\n",
       "      <td>Powder</td>\n",
       "      <td>Tablet</td>\n",
       "      <td>Capsule</td>\n",
       "      <td>...</td>\n",
       "      <td>Softgel</td>\n",
       "      <td>Tablet</td>\n",
       "      <td>Softgel</td>\n",
       "      <td>Capsule</td>\n",
       "      <td>Liquid</td>\n",
       "      <td>Softgel</td>\n",
       "      <td>Tablet</td>\n",
       "      <td>Softgel</td>\n",
       "      <td>Tablet</td>\n",
       "      <td>Tablet</td>\n",
       "    </tr>\n",
       "    <tr>\n",
       "      <th>Quantity</th>\n",
       "      <td>30 Tube(s)</td>\n",
       "      <td>220 Softgels</td>\n",
       "      <td>30 Packet(s)</td>\n",
       "      <td>1 Can(s)</td>\n",
       "      <td>1 Can(s)</td>\n",
       "      <td>200 Tablets</td>\n",
       "      <td>NaN</td>\n",
       "      <td>NaN</td>\n",
       "      <td>325 Tablets</td>\n",
       "      <td>120 Capsules</td>\n",
       "      <td>...</td>\n",
       "      <td>340 Softgels</td>\n",
       "      <td>460 Tablets</td>\n",
       "      <td>150 Softgels</td>\n",
       "      <td>120 Capsules</td>\n",
       "      <td>48 Bottle(s)</td>\n",
       "      <td>180 Softgels</td>\n",
       "      <td>300 Tablets</td>\n",
       "      <td>210 Softgels</td>\n",
       "      <td>300 Tablets</td>\n",
       "      <td>300 Tablets</td>\n",
       "    </tr>\n",
       "    <tr>\n",
       "      <th>Vitamin Letter</th>\n",
       "      <td>NaN</td>\n",
       "      <td>Vitamin D</td>\n",
       "      <td>NaN</td>\n",
       "      <td>NaN</td>\n",
       "      <td>NaN</td>\n",
       "      <td>Vitamin C</td>\n",
       "      <td>NaN</td>\n",
       "      <td>Vitamin C</td>\n",
       "      <td>NaN</td>\n",
       "      <td>NaN</td>\n",
       "      <td>...</td>\n",
       "      <td>NaN</td>\n",
       "      <td>Vitamin B</td>\n",
       "      <td>NaN</td>\n",
       "      <td>NaN</td>\n",
       "      <td>NaN</td>\n",
       "      <td>NaN</td>\n",
       "      <td>NaN</td>\n",
       "      <td>NaN</td>\n",
       "      <td>Vitamin B</td>\n",
       "      <td>NaN</td>\n",
       "    </tr>\n",
       "    <tr>\n",
       "      <th>Container Type</th>\n",
       "      <td>NaN</td>\n",
       "      <td>NaN</td>\n",
       "      <td>NaN</td>\n",
       "      <td>NaN</td>\n",
       "      <td>NaN</td>\n",
       "      <td>NaN</td>\n",
       "      <td>Tube</td>\n",
       "      <td>NaN</td>\n",
       "      <td>NaN</td>\n",
       "      <td>NaN</td>\n",
       "      <td>...</td>\n",
       "      <td>NaN</td>\n",
       "      <td>NaN</td>\n",
       "      <td>NaN</td>\n",
       "      <td>NaN</td>\n",
       "      <td>NaN</td>\n",
       "      <td>NaN</td>\n",
       "      <td>NaN</td>\n",
       "      <td>NaN</td>\n",
       "      <td>NaN</td>\n",
       "      <td>NaN</td>\n",
       "    </tr>\n",
       "    <tr>\n",
       "      <th>Flavor</th>\n",
       "      <td>NaN</td>\n",
       "      <td>NaN</td>\n",
       "      <td>NaN</td>\n",
       "      <td>NaN</td>\n",
       "      <td>NaN</td>\n",
       "      <td>NaN</td>\n",
       "      <td>NaN</td>\n",
       "      <td>NaN</td>\n",
       "      <td>NaN</td>\n",
       "      <td>NaN</td>\n",
       "      <td>...</td>\n",
       "      <td>NaN</td>\n",
       "      <td>NaN</td>\n",
       "      <td>NaN</td>\n",
       "      <td>NaN</td>\n",
       "      <td>Assorted</td>\n",
       "      <td>NaN</td>\n",
       "      <td>NaN</td>\n",
       "      <td>NaN</td>\n",
       "      <td>NaN</td>\n",
       "      <td>NaN</td>\n",
       "    </tr>\n",
       "    <tr>\n",
       "      <th>Features</th>\n",
       "      <td>NaN</td>\n",
       "      <td>NaN</td>\n",
       "      <td>NaN</td>\n",
       "      <td>NaN</td>\n",
       "      <td>NaN</td>\n",
       "      <td>NaN</td>\n",
       "      <td>NaN</td>\n",
       "      <td>NaN</td>\n",
       "      <td>NaN</td>\n",
       "      <td>NaN</td>\n",
       "      <td>...</td>\n",
       "      <td>NaN</td>\n",
       "      <td>NaN</td>\n",
       "      <td>FSA Eligible</td>\n",
       "      <td>NaN</td>\n",
       "      <td>NaN</td>\n",
       "      <td>NaN</td>\n",
       "      <td>NaN</td>\n",
       "      <td>NaN</td>\n",
       "      <td>NaN</td>\n",
       "      <td>NaN</td>\n",
       "    </tr>\n",
       "  </tbody>\n",
       "</table>\n",
       "<p>10 rows × 54 columns</p>\n",
       "</div>"
      ],
      "text/plain": [
       "                 Zipfizz Healthy Energy Drink Mix, 30 Tubes  \\\n",
       "Brand                                               Zipfizz   \n",
       "Price                                                 22.99   \n",
       "Container Size                                     0.39 oz.   \n",
       "Dietary Features                                 Sugar Free   \n",
       "Form                                                 Powder   \n",
       "Quantity                                         30 Tube(s)   \n",
       "Vitamin Letter                                          NaN   \n",
       "Container Type                                          NaN   \n",
       "Flavor                                                  NaN   \n",
       "Features                                                NaN   \n",
       "\n",
       "                 Nature Made Extra Strength Vitamin D3 125 mcg, 220 Softgels  \\\n",
       "Brand                                                   Nature Made            \n",
       "Price                                                         18.99            \n",
       "Container Size                                                  NaN            \n",
       "Dietary Features                                        Gluten Free            \n",
       "Form                                                        Softgel            \n",
       "Quantity                                               220 Softgels            \n",
       "Vitamin Letter                                            Vitamin D            \n",
       "Container Type                                                  NaN            \n",
       "Flavor                                                          NaN            \n",
       "Features                                                        NaN            \n",
       "\n",
       "                 EcoDrink Complete Multivitamin Drink Mix, 30 Packets  \\\n",
       "Brand                                                      EcoDrink     \n",
       "Price                                                         22.99     \n",
       "Container Size                                              0.2 oz.     \n",
       "Dietary Features                                                NaN     \n",
       "Form                                                         Powder     \n",
       "Quantity                                               30 Packet(s)     \n",
       "Vitamin Letter                                                  NaN     \n",
       "Container Type                                                  NaN     \n",
       "Flavor                                                          NaN     \n",
       "Features                                                        NaN     \n",
       "\n",
       "                 Terra Kai USDA Organic Juce Super Greens Fruit and Veggie Powder, 13.23 Ounces  \\\n",
       "Brand                                            Terra Kai Organics                               \n",
       "Price                                                         23.99                               \n",
       "Container Size                                             12.2 oz.                               \n",
       "Dietary Features                                              Vegan                               \n",
       "Form                                                         Powder                               \n",
       "Quantity                                                   1 Can(s)                               \n",
       "Vitamin Letter                                                  NaN                               \n",
       "Container Type                                                  NaN                               \n",
       "Flavor                                                          NaN                               \n",
       "Features                                                        NaN                               \n",
       "\n",
       "                 Terra Kai USDA Organic Juce Super Fruit & Veggie Powder, 12.2 Ounces  \\\n",
       "Brand                                            Terra Kai Organics                     \n",
       "Price                                                         23.99                     \n",
       "Container Size                                             12.2 oz.                     \n",
       "Dietary Features                                            Organic                     \n",
       "Form                                                         Powder                     \n",
       "Quantity                                                   1 Can(s)                     \n",
       "Vitamin Letter                                                  NaN                     \n",
       "Container Type                                                  NaN                     \n",
       "Flavor                                                          NaN                     \n",
       "Features                                                        NaN                     \n",
       "\n",
       "                 Nature Made Super C with Vitamin D3 and Zinc, 200 Tablets  \\\n",
       "Brand                                                   Nature Made          \n",
       "Price                                                         14.99          \n",
       "Container Size                                                  NaN          \n",
       "Dietary Features                                                NaN          \n",
       "Form                                                         Tablet          \n",
       "Quantity                                                200 Tablets          \n",
       "Vitamin Letter                                            Vitamin C          \n",
       "Container Type                                                  NaN          \n",
       "Flavor                                                          NaN          \n",
       "Features                                                        NaN          \n",
       "\n",
       "                 Zipfizz Healthy Energy Drink Mix, Variety Pack, 30 Tubes  \\\n",
       "Brand                                                       Zipfizz         \n",
       "Price                                                         22.99         \n",
       "Container Size                                                  NaN         \n",
       "Dietary Features                                         Sugar Free         \n",
       "Form                                                         Powder         \n",
       "Quantity                                                        NaN         \n",
       "Vitamin Letter                                                  NaN         \n",
       "Container Type                                                 Tube         \n",
       "Flavor                                                          NaN         \n",
       "Features                                                        NaN         \n",
       "\n",
       "                 Emergen-C Vitamin C 1,000 mg. Variety Pack Drink Mix, 90 Packets  \\\n",
       "Brand                                                     Emergen-C                 \n",
       "Price                                                         26.99                 \n",
       "Container Size                                                  NaN                 \n",
       "Dietary Features                                         Vegetarian                 \n",
       "Form                                                         Powder                 \n",
       "Quantity                                                        NaN                 \n",
       "Vitamin Letter                                            Vitamin C                 \n",
       "Container Type                                                  NaN                 \n",
       "Flavor                                                          NaN                 \n",
       "Features                                                        NaN                 \n",
       "\n",
       "                 Centrum Silver Adults 50+ Multivitamin, 325 Tablets   \\\n",
       "Brand                                                       Centrum     \n",
       "Price                                                         24.99     \n",
       "Container Size                                                  NaN     \n",
       "Dietary Features                                            Non GMO     \n",
       "Form                                                         Tablet     \n",
       "Quantity                                                325 Tablets     \n",
       "Vitamin Letter                                                  NaN     \n",
       "Container Type                                                  NaN     \n",
       "Flavor                                                          NaN     \n",
       "Features                                                        NaN     \n",
       "\n",
       "                 Natrol JuiceFestiv Daily Fruit & Veggie, 240 Capsules  ...  \\\n",
       "Brand                                                        Natrol     ...   \n",
       "Price                                                         19.49     ...   \n",
       "Container Size                                                  NaN     ...   \n",
       "Dietary Features                                                NaN     ...   \n",
       "Form                                                        Capsule     ...   \n",
       "Quantity                                               120 Capsules     ...   \n",
       "Vitamin Letter                                                  NaN     ...   \n",
       "Container Type                                                  NaN     ...   \n",
       "Flavor                                                          NaN     ...   \n",
       "Features                                                        NaN     ...   \n",
       "\n",
       "                 trunature Ginkgo Biloba, 340 Softgels  \\\n",
       "Brand                                        trunature   \n",
       "Price                                            17.99   \n",
       "Container Size                                     NaN   \n",
       "Dietary Features                                   NaN   \n",
       "Form                                           Softgel   \n",
       "Quantity                                  340 Softgels   \n",
       "Vitamin Letter                                     NaN   \n",
       "Container Type                                     NaN   \n",
       "Flavor                                             NaN   \n",
       "Features                                           NaN   \n",
       "\n",
       "                 Nature Made Super B-Complex, 460 Tablets  \\\n",
       "Brand                                         Nature Made   \n",
       "Price                                               22.99   \n",
       "Container Size                                        NaN   \n",
       "Dietary Features                              Gluten Free   \n",
       "Form                                               Tablet   \n",
       "Quantity                                      460 Tablets   \n",
       "Vitamin Letter                                  Vitamin B   \n",
       "Container Type                                        NaN   \n",
       "Flavor                                                NaN   \n",
       "Features                                              NaN   \n",
       "\n",
       "                 Nature Made Prenatal Multi + DHA, 150 Softgels  \\\n",
       "Brand                                               Nature Made   \n",
       "Price                                                     24.99   \n",
       "Container Size                                              NaN   \n",
       "Dietary Features                                    Gluten Free   \n",
       "Form                                                    Softgel   \n",
       "Quantity                                           150 Softgels   \n",
       "Vitamin Letter                                              NaN   \n",
       "Container Type                                              NaN   \n",
       "Flavor                                                      NaN   \n",
       "Features                                           FSA Eligible   \n",
       "\n",
       "                 Nature's Lab One Daily Multivitamin, 120 Vegetarian Capsules  \\\n",
       "Brand                                                  Nature's Lab             \n",
       "Price                                                         24.99             \n",
       "Container Size                                                  NaN             \n",
       "Dietary Features                                            Non GMO             \n",
       "Form                                                        Capsule             \n",
       "Quantity                                               120 Capsules             \n",
       "Vitamin Letter                                                  NaN             \n",
       "Container Type                                                  NaN             \n",
       "Flavor                                                          NaN             \n",
       "Features                                                        NaN             \n",
       "\n",
       "                 Kirkland Signature Extra Strength Energy Shot, 48 Bottles, 2 Ounces Each  \\\n",
       "Brand                                            Kirkland Signature                         \n",
       "Price                                                         43.99                         \n",
       "Container Size                                            2 fl. oz.                         \n",
       "Dietary Features                                         Sugar Free                         \n",
       "Form                                                         Liquid                         \n",
       "Quantity                                               48 Bottle(s)                         \n",
       "Vitamin Letter                                                  NaN                         \n",
       "Container Type                                                  NaN                         \n",
       "Flavor                                                     Assorted                         \n",
       "Features                                                        NaN                         \n",
       "\n",
       "                 PreserVision AREDS 2 Formula + Multivitamin, 180 Soft Gels  \\\n",
       "Brand                                                 Bausch + Lomb           \n",
       "Price                                                         39.99           \n",
       "Container Size                                                  NaN           \n",
       "Dietary Features                                                NaN           \n",
       "Form                                                        Softgel           \n",
       "Quantity                                               180 Softgels           \n",
       "Vitamin Letter                                                  NaN           \n",
       "Container Type                                                  NaN           \n",
       "Flavor                                                          NaN           \n",
       "Features                                                        NaN           \n",
       "\n",
       "                 One A Day Women's 50+ Healthy Advantage Multivitamin, 300 Tablets  \\\n",
       "Brand                                                     One A Day                  \n",
       "Price                                                         20.99                  \n",
       "Container Size                                                  NaN                  \n",
       "Dietary Features                                        Gluten Free                  \n",
       "Form                                                         Tablet                  \n",
       "Quantity                                                300 Tablets                  \n",
       "Vitamin Letter                                                  NaN                  \n",
       "Container Type                                                  NaN                  \n",
       "Flavor                                                          NaN                  \n",
       "Features                                                        NaN                  \n",
       "\n",
       "                 PreserVision AREDS 2 Formula, 210 Soft Gels  \\\n",
       "Brand                                          Bausch + Lomb   \n",
       "Price                                                  39.99   \n",
       "Container Size                                           NaN   \n",
       "Dietary Features                                         NaN   \n",
       "Form                                                 Softgel   \n",
       "Quantity                                        210 Softgels   \n",
       "Vitamin Letter                                           NaN   \n",
       "Container Type                                           NaN   \n",
       "Flavor                                                   NaN   \n",
       "Features                                                 NaN   \n",
       "\n",
       "                 Kirkland Signature Quick Dissolve B-12 5000 mcg., 300 Tablets  \\\n",
       "Brand                                            Kirkland Signature              \n",
       "Price                                                         21.99              \n",
       "Container Size                                                  NaN              \n",
       "Dietary Features                                       Lactose Free              \n",
       "Form                                                         Tablet              \n",
       "Quantity                                                300 Tablets              \n",
       "Vitamin Letter                                            Vitamin B              \n",
       "Container Type                                                  NaN              \n",
       "Flavor                                                          NaN              \n",
       "Features                                                        NaN              \n",
       "\n",
       "                 One A Day Men's 50+ Healthy Advantage Multivitamin, 300 Tablets  \n",
       "Brand                                                     One A Day               \n",
       "Price                                                         20.99               \n",
       "Container Size                                                  NaN               \n",
       "Dietary Features                                        Gluten Free               \n",
       "Form                                                         Tablet               \n",
       "Quantity                                                300 Tablets               \n",
       "Vitamin Letter                                                  NaN               \n",
       "Container Type                                                  NaN               \n",
       "Flavor                                                          NaN               \n",
       "Features                                                        NaN               \n",
       "\n",
       "[10 rows x 54 columns]"
      ]
     },
     "execution_count": 181,
     "metadata": {},
     "output_type": "execute_result"
    }
   ],
   "source": [
    "pd.DataFrame(name_dict)"
   ]
  },
  {
   "cell_type": "code",
   "execution_count": 99,
   "id": "0f5a5804",
   "metadata": {},
   "outputs": [],
   "source": [
    "html = browser.html\n",
    "test = soup(html, 'html.parser')"
   ]
  },
  {
   "cell_type": "code",
   "execution_count": 95,
   "id": "50d92d63",
   "metadata": {},
   "outputs": [],
   "source": [
    "page_count = len(test.find(class_=\"paging col-xs-12\").find_all(class_=\"page\")) - 1"
   ]
  },
  {
   "cell_type": "code",
   "execution_count": 96,
   "id": "7b5f11cb",
   "metadata": {},
   "outputs": [
    {
     "data": {
      "text/plain": [
       "2"
      ]
     },
     "execution_count": 96,
     "metadata": {},
     "output_type": "execute_result"
    }
   ],
   "source": [
    "page_count"
   ]
  },
  {
   "cell_type": "code",
   "execution_count": 59,
   "id": "b47936a6",
   "metadata": {},
   "outputs": [
    {
     "data": {
      "text/plain": [
       "[<li automation-id=\"pageNumberCount_26\" class=\"page\"><a class=\"btn\" href=\"https://www.costco.com/adult-multi-letter-vitamins.html?currentPage=2&amp;pageSize=24\">\n",
       " <span aria-hidden=\"true\">2</span>\n",
       " <span class=\"sr-only\">Page 2<span></span></span></a>\n",
       " </li>,\n",
       " <li automation-id=\"pageNumberCount_27\" class=\"page\"><a class=\"btn\" href=\"https://www.costco.com/adult-multi-letter-vitamins.html?currentPage=3&amp;pageSize=24\">\n",
       " <span aria-hidden=\"true\">3</span>\n",
       " <span class=\"sr-only\">Page 3<span></span></span></a>\n",
       " </li>]"
      ]
     },
     "execution_count": 59,
     "metadata": {},
     "output_type": "execute_result"
    }
   ],
   "source": [
    "test.find(class_=\"paging col-xs-12\").find_all(class_=\"page\")[1:]"
   ]
  },
  {
   "cell_type": "code",
   "execution_count": 94,
   "id": "edd077f1",
   "metadata": {},
   "outputs": [],
   "source": [
    "browser.visit(test.find(class_=\"paging col-xs-12\").find_all(class_=\"page\")[1].find(\"a\").get(\"href\"))"
   ]
  },
  {
   "cell_type": "code",
   "execution_count": null,
   "id": "b2db31fb",
   "metadata": {},
   "outputs": [],
   "source": []
  },
  {
   "cell_type": "code",
   "execution_count": 182,
   "id": "d60d6d74",
   "metadata": {},
   "outputs": [],
   "source": [
    "browser.quit()"
   ]
  },
  {
   "cell_type": "code",
   "execution_count": null,
   "id": "e655efff",
   "metadata": {},
   "outputs": [],
   "source": []
  }
 ],
 "metadata": {
  "kernelspec": {
   "display_name": "PythonData",
   "language": "python",
   "name": "pythondata"
  },
  "language_info": {
   "codemirror_mode": {
    "name": "ipython",
    "version": 3
   },
   "file_extension": ".py",
   "mimetype": "text/x-python",
   "name": "python",
   "nbconvert_exporter": "python",
   "pygments_lexer": "ipython3",
   "version": "3.9.7"
  }
 },
 "nbformat": 4,
 "nbformat_minor": 5
}
