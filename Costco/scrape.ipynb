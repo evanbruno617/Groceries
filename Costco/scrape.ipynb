{
 "cells": [
  {
   "cell_type": "code",
   "execution_count": 1,
   "id": "5fd483f8",
   "metadata": {},
   "outputs": [],
   "source": [
    "# import dependencies \n",
    "import pandas as pd\n",
    "from splinter import Browser\n",
    "from bs4 import BeautifulSoup as soup\n",
    "import pandas as pd\n",
    "import datetime as dt\n",
    "from webdriver_manager.chrome import ChromeDriverManager\n",
    "import time\n",
    "import numpy as np\n",
    "import os\n",
    "import random"
   ]
  },
  {
   "cell_type": "code",
   "execution_count": 2,
   "id": "cc85046b",
   "metadata": {},
   "outputs": [
    {
     "name": "stderr",
     "output_type": "stream",
     "text": [
      "\n",
      "\n",
      "====== WebDriver manager ======\n",
      "Current google-chrome version is 104.0.5112\n",
      "Get LATEST chromedriver version for 104.0.5112 google-chrome\n",
      "Trying to download new driver from https://chromedriver.storage.googleapis.com/104.0.5112.79/chromedriver_mac64.zip\n",
      "Driver has been saved in cache [/Users/evanbruno/.wdm/drivers/chromedriver/mac64/104.0.5112.79]\n"
     ]
    }
   ],
   "source": [
    "\n",
    "# open browser\n",
    "executable_path = {'executable_path': ChromeDriverManager().install()}\n",
    "browser = Browser('chrome', **executable_path, headless=False)"
   ]
  },
  {
   "cell_type": "code",
   "execution_count": 4,
   "id": "aa80afa6",
   "metadata": {},
   "outputs": [],
   "source": [
    "url = \"https://www.costco.com/grocery-household.html\"\n",
    "browser.visit(url)"
   ]
  },
  {
   "cell_type": "code",
   "execution_count": 5,
   "id": "d03443b2",
   "metadata": {},
   "outputs": [],
   "source": [
    "html = browser.html\n",
    "test = soup(html, 'html.parser')"
   ]
  },
  {
   "cell_type": "code",
   "execution_count": 6,
   "id": "941a329a",
   "metadata": {},
   "outputs": [],
   "source": [
    "cat = {}\n",
    "href = []\n",
    "for i in range(2, 5):\n",
    "    # for t in test.find_all(class_=\"row gutter\")[i].find_all(class_=\"h5-style-guide eco-ftr-6across-title\")\n",
    "    \n",
    "    for i in test.find_all(class_=\"row gutter\")[2].find_all(\"a\"):\n",
    "        href.append(i.get(\"href\"))"
   ]
  },
  {
   "cell_type": "code",
   "execution_count": 7,
   "id": "adcdf90c",
   "metadata": {},
   "outputs": [
    {
     "data": {
      "text/plain": [
       "['/health-beauty.html',\n",
       " '/kirkland-signature-groceries.html',\n",
       " '/paper-products-food-storage.html',\n",
       " '/laundry-supplies.html',\n",
       " '/household-cleaning.html',\n",
       " '/coffee-sweeteners.html',\n",
       " '/health-beauty.html',\n",
       " '/kirkland-signature-groceries.html',\n",
       " '/paper-products-food-storage.html',\n",
       " '/laundry-supplies.html',\n",
       " '/household-cleaning.html',\n",
       " '/coffee-sweeteners.html',\n",
       " '/health-beauty.html',\n",
       " '/kirkland-signature-groceries.html',\n",
       " '/paper-products-food-storage.html',\n",
       " '/laundry-supplies.html',\n",
       " '/household-cleaning.html',\n",
       " '/coffee-sweeteners.html']"
      ]
     },
     "execution_count": 7,
     "metadata": {},
     "output_type": "execute_result"
    }
   ],
   "source": [
    "href"
   ]
  },
  {
   "cell_type": "code",
   "execution_count": 8,
   "id": "a8296ffe",
   "metadata": {},
   "outputs": [
    {
     "data": {
      "text/plain": [
       "<a class=\"external\" href=\"/kirkland-signature-groceries.html\" style=\"text-decoration-color: #333333;\">\n",
       "<span class=\"eco-imgWrapGrocery eco-cat-img\"><img alt=\"\" class=\"img-responsive btn-block\" src=\"https://mobilecontent.costco.com/live/resource/img/grocery/grocery-6feature-trash-bag.png\"/></span>\n",
       "<div class=\"h5-style-guide eco-ftr-6across-title\">Kirkland Signature Grocery</div>\n",
       "<div style=\"text-align: center; font-size: 0.9em; color: #333; line-height: 0.8em;\"></div>\n",
       "</a>"
      ]
     },
     "execution_count": 8,
     "metadata": {},
     "output_type": "execute_result"
    }
   ],
   "source": [
    "test.find_all(class_=\"row gutter\")[2].find_all(\"a\")[1]"
   ]
  },
  {
   "cell_type": "code",
   "execution_count": 9,
   "id": "92c7cf56",
   "metadata": {},
   "outputs": [
    {
     "data": {
      "text/plain": [
       "'/health-beauty.html'"
      ]
     },
     "execution_count": 9,
     "metadata": {},
     "output_type": "execute_result"
    }
   ],
   "source": [
    "test.find_all(class_=\"row gutter\")[2].find(\"a\").get(\"href\")"
   ]
  },
  {
   "cell_type": "code",
   "execution_count": 7,
   "id": "1a9bb8e1",
   "metadata": {},
   "outputs": [],
   "source": [
    "browser.quit()"
   ]
  },
  {
   "cell_type": "code",
   "execution_count": null,
   "id": "dd4defb4",
   "metadata": {},
   "outputs": [],
   "source": []
  }
 ],
 "metadata": {
  "kernelspec": {
   "display_name": "PythonData",
   "language": "python",
   "name": "pythondata"
  },
  "language_info": {
   "codemirror_mode": {
    "name": "ipython",
    "version": 3
   },
   "file_extension": ".py",
   "mimetype": "text/x-python",
   "name": "python",
   "nbconvert_exporter": "python",
   "pygments_lexer": "ipython3",
   "version": "3.9.7"
  }
 },
 "nbformat": 4,
 "nbformat_minor": 5
}
