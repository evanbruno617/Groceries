{
 "cells": [
  {
   "cell_type": "code",
   "execution_count": 1,
   "id": "93f103d1",
   "metadata": {},
   "outputs": [],
   "source": [
    "# import dependencies \n",
    "import pandas as pd\n",
    "from splinter import Browser\n",
    "from bs4 import BeautifulSoup as soup\n",
    "import pandas as pd\n",
    "import datetime as dt\n",
    "from webdriver_manager.chrome import ChromeDriverManager\n",
    "import time\n",
    "import numpy as np\n",
    "import os\n",
    "import random"
   ]
  },
  {
   "cell_type": "code",
   "execution_count": 2,
   "id": "3342f378",
   "metadata": {},
   "outputs": [
    {
     "name": "stderr",
     "output_type": "stream",
     "text": [
      "\n",
      "\n",
      "====== WebDriver manager ======\n",
      "Current google-chrome version is 104.0.5112\n",
      "Get LATEST chromedriver version for 104.0.5112 google-chrome\n",
      "Driver [/Users/evanbruno/.wdm/drivers/chromedriver/mac64/104.0.5112.79/chromedriver] found in cache\n"
     ]
    }
   ],
   "source": [
    "# open browser\n",
    "executable_path = {'executable_path': ChromeDriverManager().install()}\n",
    "browser = Browser('chrome', **executable_path, headless=False)"
   ]
  },
  {
   "cell_type": "code",
   "execution_count": 3,
   "id": "b3aa8779",
   "metadata": {},
   "outputs": [],
   "source": [
    "url = \"https://www.safeway.com/\"\n",
    "browser.visit(url)"
   ]
  },
  {
   "cell_type": "code",
   "execution_count": 4,
   "id": "fb3df3cd",
   "metadata": {},
   "outputs": [
    {
     "data": {
      "text/plain": [
       "<splinter.element_list.ElementList at 0x7fcfd085c970>"
      ]
     },
     "execution_count": 4,
     "metadata": {},
     "output_type": "execute_result"
    }
   ],
   "source": [
    "browser.find_by_text(\"View \")"
   ]
  },
  {
   "cell_type": "code",
   "execution_count": 5,
   "id": "0e22d346",
   "metadata": {},
   "outputs": [],
   "source": [
    "browser.find_by_id(\"onboardingCloseButton\").click()"
   ]
  },
  {
   "cell_type": "code",
   "execution_count": 6,
   "id": "8921b9ce",
   "metadata": {},
   "outputs": [],
   "source": [
    "browser.quit()"
   ]
  }
 ],
 "metadata": {
  "kernelspec": {
   "display_name": "PythonData",
   "language": "python",
   "name": "pythondata"
  },
  "language_info": {
   "codemirror_mode": {
    "name": "ipython",
    "version": 3
   },
   "file_extension": ".py",
   "mimetype": "text/x-python",
   "name": "python",
   "nbconvert_exporter": "python",
   "pygments_lexer": "ipython3",
   "version": "3.9.7"
  }
 },
 "nbformat": 4,
 "nbformat_minor": 5
}
